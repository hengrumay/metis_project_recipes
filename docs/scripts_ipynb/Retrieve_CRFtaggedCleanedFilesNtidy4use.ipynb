{
 "cells": [
  {
   "cell_type": "code",
   "execution_count": null,
   "metadata": {
    "collapsed": true
   },
   "outputs": [],
   "source": [
    "## tidied up scripts -- Mar 2017"
   ]
  },
  {
   "cell_type": "markdown",
   "metadata": {},
   "source": [
    "#### NOTE:\n",
    "\n",
    "Previousely used NYT's CRF ingredient tagger as a means to 'clean' up the ingredients a little more...   \n",
    "** This script adds additional functions to improve the structuring **   \n",
    "\n",
    "Refs.  \n",
    "- https://github.com/hengrumay/ingredient-phrase-tagger  || https://github.com/NYTimes/ingredient-phrase-tagger  \n",
    "- http://open.blogs.nytimes.com/2015/04/09/extracting-structured-data-from-recipes-using-conditional-random-fields/?_r=1\n",
    "- https://rajmak.wordpress.com/2016/02/19/structuring-text-using-conditional-random-field-crf-tagging-recipe-ingredient-phrases/  \n",
    "\n",
    "-- Previous script: `Re-coding_parseIngredients_run_CRFtggerNsomecleanup.ipynb`  \n",
    "-- Ref prior code exploration: `Retrieve_CRFtaggedCleanedFilesNtidy4use_v0.ipynb`\n",
    "\n",
    "####   "
   ]
  },
  {
   "cell_type": "code",
   "execution_count": null,
   "metadata": {
    "collapsed": true
   },
   "outputs": [],
   "source": [
    "from __future__ import print_function, division\n",
    "\n",
    "import pandas as pd\n",
    "import numpy as np\n",
    "\n",
    "import pickle\n",
    "\n",
    "## --------------------------------------------\n",
    "import re\n",
    "#==============================================\n",
    "\n",
    "from __future__ import print_function\n",
    "\n",
    "import sys\n",
    "import os\n",
    "import tempfile\n",
    "\n",
    "from ingredient_phrase_tagger.training import utils\n",
    "\n",
    "import sklearn\n",
    "import pycrfsuite"
   ]
  },
  {
   "cell_type": "code",
   "execution_count": null,
   "metadata": {
    "collapsed": true
   },
   "outputs": [],
   "source": [
    "filepath = '/Users/hrm/Documents/Dropbox/DSrelated/Metis/recipes/bbc_goodfood_recipes_pickles/'\n",
    "DF = pd.read_pickle(filepath+'BBCgoodfood_10081recipesNlinks.pkl')"
   ]
  },
  {
   "cell_type": "code",
   "execution_count": null,
   "metadata": {
    "collapsed": true
   },
   "outputs": [],
   "source": [
    "## MUST change dir to run following scripts! Do Once...\n",
    "# os.chdir(os.path.dirname('./ingredient-phrase-tagger-master/'))\n",
    "# !pwd\n",
    "# /Users/hrm/Documents/Dropbox/DSrelated/Metis/recipes/ingredient-phrase-tagger-master\n",
    "\n",
    "# print(os.getcwd())\n",
    "# os.getcwd() "
   ]
  },
  {
   "cell_type": "code",
   "execution_count": null,
   "metadata": {
    "collapsed": true
   },
   "outputs": [],
   "source": [
    "Modelpath = '/Users/hrm/Documents/Dropbox/DSrelated/Metis/recipes/ingredient-phrase-tagger-master/'\n",
    "Folderpath = '/Users/hrm/Documents/Dropbox/DSrelated/Metis/recipes'\n",
    "\n",
    "crf_filespath = Folderpath +'/crf_tagger_files/'\n",
    "\n",
    "# list(DF.index)\n",
    "\n",
    "# filename = [crf_filespath + 'bbcgdfd_'+str(i)+'.txt' for i in list(DF.index)]\n",
    "filename = [crf_filespath + 'bbcgdfd_'+str(i)+'.txt' for i in range(10081)]\n",
    "# filename"
   ]
  },
  {
   "cell_type": "code",
   "execution_count": null,
   "metadata": {
    "collapsed": true
   },
   "outputs": [],
   "source": [
    "def getCAPcharIndices(s):\n",
    "    return [i for i, c in enumerate(s) if c.isupper()]\n",
    "\n",
    "def getBracketIndices(s):\n",
    "    return [i for i, c in enumerate(s) if c=='(']\n",
    "\n",
    "def getcommaIndices(s):\n",
    "    return [i for i, c in enumerate(s) if c==',']\n",
    "\n",
    "def getdashIndices(s):\n",
    "    return [i for i, c in enumerate(s) if c=='-']"
   ]
  },
  {
   "cell_type": "code",
   "execution_count": null,
   "metadata": {
    "collapsed": true
   },
   "outputs": [],
   "source": [
    "unitlabels = ['tablespoon', 'teaspoon', 'liter', 'milliliter', 'ml', 'kilogram', 'gram', \n",
    "              'g,','kg','cm','mm','glass', 'pint', 'strips',\n",
    "              'splash' ,'slice','handful','sprig','sprigs','clove','cloves', 'thumb-size piece',\n",
    "             'pinch','knob'] #\n",
    "\n",
    "def checkUnitLabels(s):\n",
    "    for u in unitlabels:\n",
    "        #s = s.replace(u, ' '+ u + ' ')\n",
    "        s = re.sub(r'(?<=[\\d\\s*])%s()'%(u), ' '+ u + ' ', s)\n",
    "        #s = s.replace('glass',' glass ')\n",
    "    return s"
   ]
  },
  {
   "cell_type": "code",
   "execution_count": null,
   "metadata": {
    "collapsed": true
   },
   "outputs": [],
   "source": [
    "## check if str can be converted to float...\n",
    "# http://edumaven.com/python-programming/is-number \n",
    "\n",
    "def is_float(input):\n",
    "    try:\n",
    "        num = float(input)\n",
    "    except ValueError:\n",
    "        return False\n",
    "    return True\n",
    "\n",
    "def is_int(input):\n",
    "    try:\n",
    "        num = int(input)\n",
    "    except ValueError:\n",
    "        return False\n",
    "    return True"
   ]
  },
  {
   "cell_type": "code",
   "execution_count": null,
   "metadata": {
    "collapsed": true
   },
   "outputs": [],
   "source": [
    "# restructure other info\n",
    "\n",
    "def getUnitsInOther(df0):\n",
    "    \n",
    "    o = [] #np.empty(shape=(len(df0),1))\n",
    "    if 'other' in df0.columns.tolist():\n",
    "        for n in range(len(df0.other)):\n",
    "            try:\n",
    "                tmp = checkUnitLabels(df0.other[n])\n",
    "                tmp = tmp.replace('*',' * ')\n",
    "                tmp = tmp.replace('+',' + ')\n",
    "                tmp = tmp.replace('of','')\n",
    "                tmp = tmp.replace('-',' : ')\n",
    "\n",
    "                #print(tmp)\n",
    "\n",
    "                #if any tmp is in unitlabels -- then append?\n",
    "                t = [tmp for u in unitlabels if u in tmp and '/' not in tmp ]                \n",
    "                \n",
    "                if t!=[] and ')' not in tmp and '(' not in tmp:\n",
    "                    o.append(tmp)\n",
    "                else:\n",
    "                    o.append('')\n",
    "                #print(n, tmp)\n",
    "\n",
    "            except:\n",
    "                #error_id.append(n)\n",
    "                o.append('')\n",
    "                #print(n, error_id)\n",
    "    else:\n",
    "        o = ['']*len(df0)\n",
    "\n",
    "    return o "
   ]
  },
  {
   "cell_type": "code",
   "execution_count": null,
   "metadata": {
    "collapsed": true
   },
   "outputs": [],
   "source": [
    "unitlabels\n",
    "# ['tablespoon',\n",
    "#  'teaspoon',\n",
    "#  'liter',\n",
    "#  'milliliter',\n",
    "#  'ml',\n",
    "#  'kilogram',\n",
    "#  'gram',\n",
    "#  'g,',\n",
    "#  'kg',\n",
    "#  'cm',\n",
    "#  'mm',\n",
    "#  'glass',\n",
    "#  'pint',\n",
    "#  'strips',\n",
    "#  'splash',\n",
    "#  'slice',\n",
    "#  'handful',\n",
    "#  'sprig',\n",
    "#  'sprigs',\n",
    "#  'clove',\n",
    "#  'cloves',\n",
    "#  'thumb-size piece',\n",
    "#  'pinch',\n",
    "#  'knob']"
   ]
  },
  {
   "cell_type": "code",
   "execution_count": null,
   "metadata": {
    "collapsed": true
   },
   "outputs": [],
   "source": [
    "# restructure qty info\n",
    "\n",
    "def getUnitsInQty(df0):\n",
    "    #error_id=[]\n",
    "    q = [] #np.empty(shape=(len(df0),1))\n",
    "    for n in range(len(df0.qty)):\n",
    "        try:\n",
    "            \n",
    "#             for u in unitlabels: \n",
    "#                 if u in df0.name[n]:\n",
    "#                     tmp =             \n",
    "#             if pd.isnull(df0.unit[n]) \n",
    "            \n",
    "            tmp = checkUnitLabels(df0.qty[n])\n",
    "            tmp = tmp.replace('*',' * ')\n",
    "            tmp = tmp.replace('+',' + ')\n",
    "            tmp = tmp.replace('g-',' gram-')\n",
    "            tmp = re.sub(r'(?<=[\\d\\s*])%s()'%('g-'), ' gram-', tmp)\n",
    "            \n",
    "            if 'sundried-tomato' or 'thumb-size' or 'oven-ready' or 'hot-smoked' not in tmp:\n",
    "                tmp = tmp.replace('-',' : ')\n",
    "            else:\n",
    "                for w in ['oven-ready', 'hot-smoked']:\n",
    "                    tmp = tmp.replace('w','')\n",
    "                    df0.comment[n].extend(w) \n",
    "            \n",
    "            tmp = tmp.replace('to',' : ')\n",
    "            tmp = tmp.replace('a ','')\n",
    "            \n",
    "\n",
    "            #print(tmp)\n",
    "            q.append(tmp)\n",
    "\n",
    "            #t=[tmp for u in unitlabels if u in tmp]\n",
    "            #if t!=[]:\n",
    "            #    q.append(tmp)\n",
    "            #else:\n",
    "            #    q.append('')\n",
    "            #print(n, tmp)\n",
    "\n",
    "        except:\n",
    "            #error_id.append(n)\n",
    "            q.append('')\n",
    "            #print(n, error_id)\n",
    "\n",
    "    return q #, len(q)    "
   ]
  },
  {
   "cell_type": "code",
   "execution_count": null,
   "metadata": {
    "collapsed": true
   },
   "outputs": [],
   "source": [
    "def combine_qNo(q,o):\n",
    "    qo = []\n",
    "    for n in range(len(q)):\n",
    "        qo.append((q[n] + o[n]).replace(',',''))#.replace('-','--'))\n",
    "\n",
    "    return qo\n"
   ]
  },
  {
   "cell_type": "code",
   "execution_count": null,
   "metadata": {
    "collapsed": true
   },
   "outputs": [],
   "source": [
    "def getmisplacedUnQnS(qo):\n",
    "    misplacedU=[]\n",
    "    misplacedQnS =[]\n",
    "\n",
    "\n",
    "    for n in range(len(qo)):\n",
    "        #misplacedU.extend([(n,idx,w) for idx,w in enumerate(q[n].split(' ')) if w in unitlabels])\n",
    "        #misplacedN.extend([(n,idx,w) for idx,w in enumerate(q[n].split(' ')) if is_float(w)])\n",
    "        #if q[n] != np.nan:\n",
    "\n",
    "        tmp_f=[]\n",
    "        for idx,w in enumerate(qo[n].split(' ')):\n",
    "            if w in unitlabels:\n",
    "                misplacedU.append([n,idx,w])\n",
    "\n",
    "            if is_float(w) or w in ['*','+', ':']:\n",
    "                #print(w)\n",
    "                tmp_f.append(w)\n",
    "\n",
    "        misplacedQnS.append(tmp_f)\n",
    "\n",
    "    return misplacedU, misplacedQnS"
   ]
  },
  {
   "cell_type": "code",
   "execution_count": null,
   "metadata": {
    "collapsed": true
   },
   "outputs": [],
   "source": [
    "# CHECKS and Replace misplaced unit in unit1\n",
    "def checksNupdatesUnit(df0):\n",
    "    \n",
    "    for n,idx,w in misplacedU:\n",
    "        df0.unit1[n] = w \n",
    "\n",
    "    if misplacedU == []:\n",
    "        for n in range(len(df0)):\n",
    "            if pd.isnull(df0.qty[n])==True and pd.isnull(df0.unit[n])==True and df0.comment[n]=='1 each of':\n",
    "                df0.unit1[n] = 'each'\n",
    "                df0.qty1[n] = 1\n",
    "    return df0"
   ]
  },
  {
   "cell_type": "code",
   "execution_count": null,
   "metadata": {
    "collapsed": true
   },
   "outputs": [],
   "source": [
    "## Replace QTY\n",
    "# checks and evaluates strings--floats\n",
    "def checkNevalQty(misplacedQnS,df0,qo):\n",
    "\n",
    "    for n in range(len(misplacedQnS)):\n",
    "        w = misplacedQnS[n]\n",
    "        #print(w)\n",
    "        if w !=[]:\n",
    "            \n",
    "            if '*:' in ''.join(w):\n",
    "                df0.qty1[n] = eval(''.join(''.join(w).split('*:')))\n",
    "            \n",
    "            elif len(w)==1 and w==[':']:\n",
    "                df0.qty1[n] = np.nan\n",
    "            \n",
    "            elif len(w)==2 and w[-1]==':':\n",
    "                df0.qty1[n] = eval(w[0])\n",
    "            \n",
    "            #elif w[0]==':':\n",
    "            #    df0.qty1[n] = eval(w[1:])\n",
    "            \n",
    "            elif len(w)>2 and w[-1]==':':\n",
    "                df0.qty1[n] = eval(' '.join(w[:-1]))\n",
    "            \n",
    "            \n",
    "            elif 3>=len(w)>1 and w[1]==':':\n",
    "                df0.qty1[n] = float(np.mean([float(i) for i in ' '.join(w).split(':')]))\n",
    "\n",
    "            elif 5>=len(w)>3 and w[1]==':':\n",
    "                df0.qty1[n] = float(np.mean([eval(i) for i in  ' '.join(w).split(':')]))\n",
    "                \n",
    "            elif 5>=len(w)>3 and w[3]==':':\n",
    "                df0.qty1[n] = float(np.mean([eval(i) for i in  ' '.join(w).split(':')]))\n",
    "            \n",
    "            elif len(w)==5 and w[1]==':':\n",
    "                if '*:' in ''.join(w):\n",
    "                    df0.qty1[n] = eval(''.join(''.join(w[:-1]).split('+:')))\n",
    "            \n",
    "            elif len(w)==4 and ''.join(w[1:3])=='*:':\n",
    "                df0.qty1[n] = float(np.mean([eval(i) for i in  ' '.join(w).split('* :')]))\n",
    "                \n",
    "            elif len(w)>5 and w[1]==':' and w[-1] ==':':\n",
    "                df0.qty1[n] = float(np.mean([eval(i) for i in  ' '.join(w[:-1]).split(':')]))\n",
    "                \n",
    "\n",
    "            \n",
    "            elif len(w)==3 and ''.join(w[-2:])=='*:':\n",
    "                df0.qty1[n] = eval(' '.join(w[:-2]))\n",
    "\n",
    "            elif w[-1] !='*':\n",
    "                df0.qty1[n] = eval(' '.join(w))\n",
    "\n",
    "            elif w[-1] =='*' and pd.isnull(df0.name[n])==True:\n",
    "                df0.qty1[n] = eval(' '.join(w + ['1']))\n",
    "                df0.name1[n] = qo[n].split()[-1]\n",
    "\n",
    "            elif w[-1] =='*' and pd.isnull(df0.name[n])==False:\n",
    "                df0.qty1[n] = eval(' '.join(w + ['1']))\n",
    "                \n",
    "                \n",
    "\n",
    "        # if qty1/unit1 == empty or nan --> check if input contains 'to serve' --> name1\n",
    "        if pd.isnull(df0.unit1[n])==True and pd.isnull(df0.name[n])==True: #== np.nan:\n",
    "#             if 'to serve' in df0.input[n]:\n",
    "#                 df0.name1[n] = df0.input[n][:df0.input[n].find('to serve')] + 'to serve'\n",
    "#             if 'to dust' in df0.input[n]:\n",
    "#                 df0.name1[n] = df0.input[n][:df0.input[n].find('to dust')] + 'to dust'\n",
    "#             if 'for dusting' in df0.input[n]:\n",
    "#                  df0.name1[n] = df0.input[n][:df0.input[n].find('for dusting')] + 'for dusting'\n",
    "#             if 'for decorating' in df0.input[n]:\n",
    "#                  df0.name1[n] = df0.input[n][:df0.input[n].find('for decorating')] + 'for decorating'\n",
    "\n",
    "            if 'for' in df0.input[n]:\n",
    "                df0.name1[n] = np.nan\n",
    "                \n",
    "            if 'to' in df0.input[n]:\n",
    "                df0.name1[n] = np.nan \n",
    "            \n",
    "            if 'and' in df0.input[n]:\n",
    "                df0.name1[n] = np.nan\n",
    "                \n",
    "            \n",
    "            #elif pd.isnull(df0.qty[n]):\n",
    "\n",
    "        if pd.isnull(df0.name[n])==True and pd.isnull(df0.name1[n])==True and pd.isnull(df0.comment[n])==False:\n",
    "            commaID = df0.comment[n].find(',')\n",
    "            capID = getCAPcharIndices(df0.comment[n])\n",
    "\n",
    "            if commaID!=[] and capID!=[]:\n",
    "                if capID[0]>len(df0.comment[n])-commaID:\n",
    "                    df0.name1[n] = df0.comment[n][:commaID] #'#'#df0.unit[n]\n",
    "                elif capID[0]<len(df0.comment[n])-commaID:\n",
    "                    df0.name1[n] = df0.comment[n][:capID[0]] #'#'#df0.unit[n]\n",
    "                    df0.comment[n] = df0.comment[n][:capID[0]]\n",
    "            else:\n",
    "                df0.name1[n] = df0.comment[n]\n",
    "        \n",
    "        if pd.isnull(df0.name[n])==True and pd.isnull(df0.name1[n])==False:\n",
    "            df0.name1[n] = df0.name[n]\n",
    "\n",
    "        #elif pd.isnull(df0.unit[n])==False and df0.unit[n] not in unitlabels:\n",
    "        #    df0.name1[n] = df0.unit[n] + ' ' + df0.name[n]\n",
    "\n",
    "        #if pd.isnull(df0.unit1[n])==False:\n",
    "        #    if '--' in df0.qty[n]:\n",
    "    #   #      print('found')\n",
    "        #        df0.qty1[n] = df0.qty[n][0] #np.mean([int(i) for i in ' '.join(w).split('--')])\n",
    "\n",
    "    return df0"
   ]
  },
  {
   "cell_type": "code",
   "execution_count": null,
   "metadata": {
    "collapsed": true
   },
   "outputs": [],
   "source": [
    "def checkIngdname(s):\n",
    "    #list(set([i for i in df0.name1[n].lower().split(' ') if df0.name1[n].lower().split(' ').count(i)>1]))[0]\n",
    "    #list(pd.value_counts(df0.name1[3].lower().split(' ')).index)\n",
    "    #list(pd.value_counts(df0.name1[3].lower().split(' ')))\n",
    "\n",
    "    repeatedWds = list(set([i for i in s.lower().split(' ') if s.lower().split(' ').count(i)>1]))#[0]\n",
    "    return repeatedWds"
   ]
  },
  {
   "cell_type": "code",
   "execution_count": null,
   "metadata": {
    "collapsed": true
   },
   "outputs": [],
   "source": [
    "# CheckNChangeRepeatedIngName\n",
    "def CheckNChangeRepeatedIngName(df0):\n",
    "    \n",
    "    for n in range(len(df0.name1)):\n",
    "        if pd.isnull(df0.name1[n])==False:\n",
    "            \n",
    "            if checkIngdname(df0.name1[n]) ==[]: \n",
    "                if pd.isnull(df0.comment[n])==False and checkIngdname(df0.comment[n]) ==[]:\n",
    "                    continue\n",
    "        #         elif checkIngdname(df0['input'][n]) ==[]:\n",
    "        #             df0.name1[n] = \n",
    "\n",
    "            elif checkIngdname(df0.name1[n]) !=[] or checkIngdname(df0['input'][n]) !=[]: \n",
    "                if checkIngdname(df0.name1[n]) !=[] and len(checkIngdname(df0.name1[n]))<=2:\n",
    "                    df0.name1[n] = checkIngdname(df0.name1[n])[0]\n",
    "                elif checkIngdname(df0['input'][n])!=['and'] and len(checkIngdname(df0['input'][n]))<=2:\n",
    "                    df0.name1[n] = checkIngdname(df0['input'][n])[0]\n",
    "\n",
    "    return df0\n"
   ]
  },
  {
   "cell_type": "code",
   "execution_count": null,
   "metadata": {
    "collapsed": true
   },
   "outputs": [],
   "source": [
    "# CheckNFixMissingDescript4IngName\n",
    "def CheckNFixMissingDescript4IngName(df0):\n",
    "    \n",
    "    for n in range(len(df0.name1)): \n",
    "        if n !=np.nan:\n",
    "            \n",
    "            for w in df0.name1[n]:\n",
    "                if w in [s for s in range(10)]:\n",
    "                    raise ValueError\n",
    "            \n",
    "            if 'mozzarella' in df0.name1[n]:\n",
    "                continue\n",
    "\n",
    "            #elif \n",
    "                \n",
    "            elif ('sundried tomato,' in df0['input'][n])==True and ('sundried tomato,' in df0['name1'][n])==False:\n",
    "                 df0['name1'][n] = 'sundried tomato'\n",
    "\n",
    "            elif ('oz' in df0['input'][n])==True and ('oz' in df0['name1'][n])==True: # and pd.isnull(df0.name)==True:            \n",
    "                 #df0['name1'][n] = ' '.join([i for i in df0.name1[n].split(' ') if 'oz' not in i])\n",
    "                df0['name1'][n] = np.nan    \n",
    "                raise ValueError\n",
    "            \n",
    "            elif ('lb' in df0['input'][n])==True and ('lb' in df0['name1'][n])==True: # and pd.isnull(df0.name)==True:            \n",
    "                #df0['name1'][n] = ' '.join([i for i in df0.name1[n].split(' ') if 'lb' not in i])\n",
    "                df0['name1'][n] = np.nan\n",
    "                raise ValueError\n",
    "\n",
    "            elif ('/' in df0['input'][n])==True and ('/' in df0['name1'][n])==True: # and pd.isnull(df0.name)==True:            \n",
    "                #df0['name1'][n] = ' '.join([i for i in df0.name1[n].split(' ') if '/' not in i])\n",
    "                df0['name1'][n] = np.nan\n",
    "                raise ValueError\n",
    "\n",
    "            elif ('-' in df0['input'][n])==True and ('-' in df0['name1'][n])==True: # and pd.isnull(df0.name)==True:  \n",
    "                if len(getdashIndices(df0['name1'][n]))>1:\n",
    "                #if 'spring-onion' not in df0['name1'][n]:\n",
    "                    #df0['name1'][n] = ' '.join([i.lower() for i in df0.name1[n].split(' ') if '-' not in i])\n",
    "                    df0['name1'][n] = np.nan\n",
    "                    raise ValueError\n",
    "            \n",
    "#             # if qty1/unit1 == empty or nan --> check if input contains 'to serve' --> name1\n",
    "#             if pd.isnull(df0.unit1[n])==True and pd.isnull(df0.name[n])==True: #== np.nan:\n",
    "#                 if 'to serve' in df0.input[n] :\n",
    "#                     df0.name1[n] = df0.input[n][:df0.input[n].find('to serve')] + 'to serve'\n",
    "#                 if 'to dust' in df0.input[n]:\n",
    "#                     df0.name1[n] = df0.input[n][:df0.input[n].find('to dust')] + 'to dust'\n",
    "#                 if 'for dusting' in df0.input[n]:\n",
    "#                     df0.name1[n] = df0.input[n][:df0.input[n].find('for dusting')] + 'for dusting'\n",
    "#                 if 'for decorating' in df0.input[n]:\n",
    "#                     df0.name1[n] = df0.input[n][:df0.input[n].find('for decorating')] + 'for decorating'\n",
    "            \n",
    "                \n",
    "    return df0\n"
   ]
  },
  {
   "cell_type": "code",
   "execution_count": null,
   "metadata": {
    "collapsed": true
   },
   "outputs": [],
   "source": [
    "# CheckNFixTMI4IngName\n",
    "def CheckNFixTMI4IngName(df0):\n",
    "    for n in range(len(df0.name1)):  \n",
    "        idx = getcommaIndices(df0.name1[n])\n",
    "        #print(idx)\n",
    "        if idx!=[]:\n",
    "            df0.name1[n] = df0.name1[n][:idx[0]]\n",
    "            \n",
    "        idx2 = getBracketIndices(df0.name1[n])\n",
    "        #print(idx2)\n",
    "        if idx2!=[]:\n",
    "            df0.name1[n] = df0.name1[n][:idx2[0]]\n",
    "    \n",
    "    return df0"
   ]
  },
  {
   "cell_type": "code",
   "execution_count": null,
   "metadata": {
    "collapsed": true
   },
   "outputs": [],
   "source": [
    "# CheckNFixUnits\n",
    "def CheckNFixUnits(df0):\n",
    "    for n in range(len(df0.unit1)):\n",
    "        if df0.unit1[n] in unitlabels:\n",
    "            continue\n",
    "        elif df0.unit1[n] not in unitlabels:\n",
    "            df0.unit1[n] = np.nan\n",
    "        if df0.qty1[n] == 'a':\n",
    "            df0.qty1[n] = np.nan\n",
    "            \n",
    "    return df0"
   ]
  },
  {
   "cell_type": "markdown",
   "metadata": {},
   "source": [
    "### =========================================================================================="
   ]
  },
  {
   "cell_type": "code",
   "execution_count": null,
   "metadata": {
    "collapsed": true
   },
   "outputs": [],
   "source": [
    "# RUN fundtions ############################\n",
    "\n",
    "collectErrorIDX=[]\n",
    "\n",
    "for d in range(len(DF)):\n",
    "# for d in ErrorIDX12.idx:\n",
    "    #print(d)\n",
    "    try:\n",
    "        outtest = utils.import_data(open(crf_filespath +'bbcgdfd_'+str(d)+'o.txt')) \n",
    "\n",
    "        df0 = pd.DataFrame(outtest).drop('display',axis=1)\n",
    "        # df0\n",
    "\n",
    "        # q2[n].split()\n",
    "        if 'unit' not in df0.columns.tolist():\n",
    "            df0['unit'] = np.nan\n",
    "        if 'comment' not in df0.columns.tolist():\n",
    "            df0['comment'] = np.nan\n",
    "        # df0\n",
    "\n",
    "        df0['qty1'] = df0.qty\n",
    "        df0['unit1'] = df0.unit\n",
    "        df0['name1'] = df0.name\n",
    "        # # df0.head()\n",
    "\n",
    "        o = getUnitsInOther(df0)\n",
    "        # o\n",
    "\n",
    "        q = getUnitsInQty(df0)\n",
    "        # q\n",
    "\n",
    "        qo = combine_qNo(q,o)\n",
    "        # qo\n",
    "\n",
    "        misplacedU, misplacedQnS = getmisplacedUnQnS(qo)\n",
    "        # misplacedU, misplacedQnS\n",
    "\n",
    "        df0 = checkNevalQty(misplacedQnS,df0,qo)\n",
    "\n",
    "        df0 = checksNupdatesUnit(df0)\n",
    "        # df0\n",
    "\n",
    "        df0=CheckNChangeRepeatedIngName(df0)\n",
    "        # df0\n",
    "\n",
    "        df0 = CheckNFixMissingDescript4IngName(df0)\n",
    "        # df0\n",
    "\n",
    "\n",
    "        df0 = CheckNFixTMI4IngName(df0)\n",
    "        # df0\n",
    "\n",
    "        df0 = CheckNFixUnits(df0)\n",
    "        # df0\n",
    "        \n",
    "        #filepath = '/Users/hrm/Documents/Dropbox/DSrelated/Metis/recipes/bbc_goodfood_recipes_pickles/'\n",
    "        savefilename = filepath + 'bbcgdfd_'+str(d)+'_cleaner02.pkl'\n",
    "        df0.to_pickle(savefilename)\n",
    "    \n",
    "    except:\n",
    "        collectErrorIDX.append(d)\n",
    "        \n",
    "len(collectErrorIDX)        \n",
    "\n",
    "ErrorList = pd.DataFrame(collectErrorIDX)\n",
    "ErrorList.to_csv('recipeTagErrorList.csv')"
   ]
  },
  {
   "cell_type": "code",
   "execution_count": null,
   "metadata": {
    "collapsed": true
   },
   "outputs": [],
   "source": [
    "# len(collectErrorIDX) #2841 #30\n",
    "# collectErrorIDX"
   ]
  },
  {
   "cell_type": "code",
   "execution_count": null,
   "metadata": {
    "collapsed": true
   },
   "outputs": [],
   "source": []
  },
  {
   "cell_type": "markdown",
   "metadata": {},
   "source": [
    "### Check & Explore =========================================================================================="
   ]
  },
  {
   "cell_type": "code",
   "execution_count": 2,
   "metadata": {
    "collapsed": true
   },
   "outputs": [],
   "source": [
    "import pandas as pd"
   ]
  },
  {
   "cell_type": "code",
   "execution_count": 3,
   "metadata": {
    "collapsed": false
   },
   "outputs": [],
   "source": [
    "filepath = '/Users/hrm/Documents/Dropbox/DSrelated/Metis/recipes/bbc_goodfood_recipes_pickles/'\n",
    "DF = pd.read_pickle(filepath+'BBCgoodfood_10081recipesNlinks.pkl')\n",
    "\n",
    "Modelpath = '/Users/hrm/Documents/Dropbox/DSrelated/Metis/recipes/ingredient-phrase-tagger-master/'\n",
    "Folderpath = '/Users/hrm/Documents/Dropbox/DSrelated/Metis/recipes'\n",
    "\n",
    "crf_filespath = Folderpath +'/crf_tagger_files/'\n",
    "\n",
    "filename = [crf_filespath + 'bbcgdfd_'+str(i)+'.txt' for i in range(10081)]"
   ]
  },
  {
   "cell_type": "code",
   "execution_count": null,
   "metadata": {
    "collapsed": true
   },
   "outputs": [],
   "source": []
  },
  {
   "cell_type": "code",
   "execution_count": 4,
   "metadata": {
    "collapsed": false
   },
   "outputs": [
    {
     "data": {
      "text/plain": [
       "'Chunky minestrone soup'"
      ]
     },
     "execution_count": 4,
     "metadata": {},
     "output_type": "execute_result"
    }
   ],
   "source": [
    "DF.title[150]"
   ]
  },
  {
   "cell_type": "code",
   "execution_count": 5,
   "metadata": {
    "collapsed": true
   },
   "outputs": [],
   "source": [
    "df1 = pd.read_pickle(filepath + 'bbcgdfd_'+str(150)+'_cleaned.pkl')"
   ]
  },
  {
   "cell_type": "code",
   "execution_count": 6,
   "metadata": {
    "collapsed": false
   },
   "outputs": [
    {
     "data": {
      "text/html": [
       "<div>\n",
       "<table border=\"1\" class=\"dataframe\">\n",
       "  <thead>\n",
       "    <tr style=\"text-align: right;\">\n",
       "      <th></th>\n",
       "      <th>comment</th>\n",
       "      <th>input</th>\n",
       "      <th>name</th>\n",
       "      <th>other</th>\n",
       "      <th>qty</th>\n",
       "      <th>unit</th>\n",
       "      <th>qty1</th>\n",
       "      <th>unit1</th>\n",
       "      <th>name1</th>\n",
       "    </tr>\n",
       "  </thead>\n",
       "  <tbody>\n",
       "    <tr>\n",
       "      <th>0</th>\n",
       "      <td>large roughly chopped</td>\n",
       "      <td>3 large carrot, roughly chopped</td>\n",
       "      <td>carrot</td>\n",
       "      <td>,</td>\n",
       "      <td>3</td>\n",
       "      <td>NaN</td>\n",
       "      <td>3</td>\n",
       "      <td>NaN</td>\n",
       "      <td>carrot</td>\n",
       "    </tr>\n",
       "    <tr>\n",
       "      <th>1</th>\n",
       "      <td>large roughly chopped</td>\n",
       "      <td>1 large onion, roughly chopped</td>\n",
       "      <td>onion</td>\n",
       "      <td>,</td>\n",
       "      <td>1</td>\n",
       "      <td>NaN</td>\n",
       "      <td>1</td>\n",
       "      <td>NaN</td>\n",
       "      <td>onion</td>\n",
       "    </tr>\n",
       "    <tr>\n",
       "      <th>2</th>\n",
       "      <td>roughly chopped</td>\n",
       "      <td>4 celery sticks, roughly chopped</td>\n",
       "      <td>celery sticks</td>\n",
       "      <td>,</td>\n",
       "      <td>4</td>\n",
       "      <td>NaN</td>\n",
       "      <td>4</td>\n",
       "      <td>NaN</td>\n",
       "      <td>celery sticks</td>\n",
       "    </tr>\n",
       "    <tr>\n",
       "      <th>3</th>\n",
       "      <td>NaN</td>\n",
       "      <td>1 tablespoon olive oil</td>\n",
       "      <td>olive oil</td>\n",
       "      <td>NaN</td>\n",
       "      <td>1</td>\n",
       "      <td>tablespoon</td>\n",
       "      <td>1</td>\n",
       "      <td>tablespoon</td>\n",
       "      <td>olive oil</td>\n",
       "    </tr>\n",
       "    <tr>\n",
       "      <th>4</th>\n",
       "      <td>crushed</td>\n",
       "      <td>2 garlic clove, crushed</td>\n",
       "      <td>garlic clove</td>\n",
       "      <td>,</td>\n",
       "      <td>2</td>\n",
       "      <td>NaN</td>\n",
       "      <td>2</td>\n",
       "      <td>NaN</td>\n",
       "      <td>garlic clove</td>\n",
       "    </tr>\n",
       "    <tr>\n",
       "      <th>5</th>\n",
       "      <td>large cut into small dice</td>\n",
       "      <td>2 large potato, cut into small dice</td>\n",
       "      <td>potato</td>\n",
       "      <td>,</td>\n",
       "      <td>2</td>\n",
       "      <td>NaN</td>\n",
       "      <td>2</td>\n",
       "      <td>NaN</td>\n",
       "      <td>potato</td>\n",
       "    </tr>\n",
       "    <tr>\n",
       "      <th>6</th>\n",
       "      <td>NaN</td>\n",
       "      <td>2 tablespoon tomato purée</td>\n",
       "      <td>tomato purée</td>\n",
       "      <td>NaN</td>\n",
       "      <td>2</td>\n",
       "      <td>tablespoon</td>\n",
       "      <td>2</td>\n",
       "      <td>tablespoon</td>\n",
       "      <td>tomato purée</td>\n",
       "    </tr>\n",
       "    <tr>\n",
       "      <th>7</th>\n",
       "      <td>NaN</td>\n",
       "      <td>2liter vegetable stock</td>\n",
       "      <td>vegetable stock</td>\n",
       "      <td>NaN</td>\n",
       "      <td>2liter</td>\n",
       "      <td>NaN</td>\n",
       "      <td>2</td>\n",
       "      <td>liter</td>\n",
       "      <td>vegetable stock</td>\n",
       "    </tr>\n",
       "    <tr>\n",
       "      <th>8</th>\n",
       "      <td>chopped</td>\n",
       "      <td>400gram chopped tomato</td>\n",
       "      <td>tomato</td>\n",
       "      <td>NaN</td>\n",
       "      <td>400gram</td>\n",
       "      <td>NaN</td>\n",
       "      <td>400</td>\n",
       "      <td>gram</td>\n",
       "      <td>tomato</td>\n",
       "    </tr>\n",
       "    <tr>\n",
       "      <th>9</th>\n",
       "      <td>or cannellini</td>\n",
       "      <td>400gram butter, or cannellini bean</td>\n",
       "      <td>butter bean</td>\n",
       "      <td>,</td>\n",
       "      <td>400gram</td>\n",
       "      <td>NaN</td>\n",
       "      <td>400</td>\n",
       "      <td>gram</td>\n",
       "      <td>butter bean</td>\n",
       "    </tr>\n",
       "    <tr>\n",
       "      <th>10</th>\n",
       "      <td>snapped into short lengths</td>\n",
       "      <td>140gram spaghetti, snapped into short lengths</td>\n",
       "      <td>spaghetti</td>\n",
       "      <td>,</td>\n",
       "      <td>140gram</td>\n",
       "      <td>NaN</td>\n",
       "      <td>140</td>\n",
       "      <td>gram</td>\n",
       "      <td>spaghetti</td>\n",
       "    </tr>\n",
       "    <tr>\n",
       "      <th>11</th>\n",
       "      <td>shredded</td>\n",
       "      <td>0.5*head Savoy cabbage, shredded</td>\n",
       "      <td>Savoy cabbage</td>\n",
       "      <td>,</td>\n",
       "      <td>0.5*head</td>\n",
       "      <td>NaN</td>\n",
       "      <td>0.5</td>\n",
       "      <td>NaN</td>\n",
       "      <td>Savoy cabbage</td>\n",
       "    </tr>\n",
       "    <tr>\n",
       "      <th>12</th>\n",
       "      <td>to serve</td>\n",
       "      <td>crusty bread, to serve</td>\n",
       "      <td>bread</td>\n",
       "      <td>,</td>\n",
       "      <td>crusty</td>\n",
       "      <td>NaN</td>\n",
       "      <td>crusty</td>\n",
       "      <td>NaN</td>\n",
       "      <td>crusty bread, to serve</td>\n",
       "    </tr>\n",
       "  </tbody>\n",
       "</table>\n",
       "</div>"
      ],
      "text/plain": [
       "                       comment                                          input  \\\n",
       "0        large roughly chopped                3 large carrot, roughly chopped   \n",
       "1        large roughly chopped                 1 large onion, roughly chopped   \n",
       "2              roughly chopped               4 celery sticks, roughly chopped   \n",
       "3                          NaN                         1 tablespoon olive oil   \n",
       "4                      crushed                        2 garlic clove, crushed   \n",
       "5    large cut into small dice            2 large potato, cut into small dice   \n",
       "6                          NaN                      2 tablespoon tomato purée   \n",
       "7                          NaN                         2liter vegetable stock   \n",
       "8                      chopped                         400gram chopped tomato   \n",
       "9                or cannellini             400gram butter, or cannellini bean   \n",
       "10  snapped into short lengths  140gram spaghetti, snapped into short lengths   \n",
       "11                    shredded               0.5*head Savoy cabbage, shredded   \n",
       "12                    to serve                         crusty bread, to serve   \n",
       "\n",
       "               name other       qty        unit    qty1       unit1  \\\n",
       "0            carrot     ,         3         NaN       3         NaN   \n",
       "1             onion     ,         1         NaN       1         NaN   \n",
       "2     celery sticks     ,         4         NaN       4         NaN   \n",
       "3         olive oil   NaN         1  tablespoon       1  tablespoon   \n",
       "4      garlic clove     ,         2         NaN       2         NaN   \n",
       "5            potato     ,         2         NaN       2         NaN   \n",
       "6      tomato purée   NaN         2  tablespoon       2  tablespoon   \n",
       "7   vegetable stock   NaN    2liter         NaN       2       liter   \n",
       "8            tomato   NaN   400gram         NaN     400        gram   \n",
       "9       butter bean     ,   400gram         NaN     400        gram   \n",
       "10        spaghetti     ,   140gram         NaN     140        gram   \n",
       "11    Savoy cabbage     ,  0.5*head         NaN     0.5         NaN   \n",
       "12            bread     ,    crusty         NaN  crusty         NaN   \n",
       "\n",
       "                     name1  \n",
       "0                   carrot  \n",
       "1                    onion  \n",
       "2            celery sticks  \n",
       "3                olive oil  \n",
       "4             garlic clove  \n",
       "5                   potato  \n",
       "6             tomato purée  \n",
       "7          vegetable stock  \n",
       "8                   tomato  \n",
       "9              butter bean  \n",
       "10               spaghetti  \n",
       "11           Savoy cabbage  \n",
       "12  crusty bread, to serve  "
      ]
     },
     "execution_count": 6,
     "metadata": {},
     "output_type": "execute_result"
    }
   ],
   "source": [
    "df1"
   ]
  },
  {
   "cell_type": "code",
   "execution_count": null,
   "metadata": {
    "collapsed": true
   },
   "outputs": [],
   "source": []
  },
  {
   "cell_type": "code",
   "execution_count": 7,
   "metadata": {
    "collapsed": false
   },
   "outputs": [
    {
     "data": {
      "text/plain": [
       "'Decadent chocolate truffle torte'"
      ]
     },
     "execution_count": 7,
     "metadata": {},
     "output_type": "execute_result"
    }
   ],
   "source": [
    "DF.title[469]"
   ]
  },
  {
   "cell_type": "code",
   "execution_count": 8,
   "metadata": {
    "collapsed": true
   },
   "outputs": [],
   "source": [
    "df2 = pd.read_pickle(filepath + 'bbcgdfd_'+str(469)+'_cleaned.pkl')"
   ]
  },
  {
   "cell_type": "code",
   "execution_count": 9,
   "metadata": {
    "collapsed": false
   },
   "outputs": [
    {
     "data": {
      "text/html": [
       "<div>\n",
       "<table border=\"1\" class=\"dataframe\">\n",
       "  <thead>\n",
       "    <tr style=\"text-align: right;\">\n",
       "      <th></th>\n",
       "      <th>comment</th>\n",
       "      <th>input</th>\n",
       "      <th>name</th>\n",
       "      <th>other</th>\n",
       "      <th>qty</th>\n",
       "      <th>unit</th>\n",
       "      <th>qty1</th>\n",
       "      <th>unit1</th>\n",
       "      <th>name1</th>\n",
       "    </tr>\n",
       "  </thead>\n",
       "  <tbody>\n",
       "    <tr>\n",
       "      <th>0</th>\n",
       "      <td>NaN</td>\n",
       "      <td>250gram dark-chocolate</td>\n",
       "      <td>dark-chocolate</td>\n",
       "      <td>NaN</td>\n",
       "      <td>250gram</td>\n",
       "      <td>NaN</td>\n",
       "      <td>250</td>\n",
       "      <td>gram</td>\n",
       "      <td>dark-chocolate</td>\n",
       "    </tr>\n",
       "    <tr>\n",
       "      <th>1</th>\n",
       "      <td>NaN</td>\n",
       "      <td>2 tablespoon golden syrup</td>\n",
       "      <td>golden syrup</td>\n",
       "      <td>NaN</td>\n",
       "      <td>2</td>\n",
       "      <td>tablespoon</td>\n",
       "      <td>2</td>\n",
       "      <td>tablespoon</td>\n",
       "      <td>golden syrup</td>\n",
       "    </tr>\n",
       "    <tr>\n",
       "      <th>2</th>\n",
       "      <td>NaN</td>\n",
       "      <td>568milliliter carton double cream</td>\n",
       "      <td>double cream</td>\n",
       "      <td>NaN</td>\n",
       "      <td>568milliliter</td>\n",
       "      <td>carton</td>\n",
       "      <td>568</td>\n",
       "      <td>milliliter</td>\n",
       "      <td>double cream</td>\n",
       "    </tr>\n",
       "    <tr>\n",
       "      <th>3</th>\n",
       "      <td>NaN</td>\n",
       "      <td>4 teaspoon instant coffee granules</td>\n",
       "      <td>instant coffee granules</td>\n",
       "      <td>NaN</td>\n",
       "      <td>4</td>\n",
       "      <td>teaspoon</td>\n",
       "      <td>4</td>\n",
       "      <td>teaspoon</td>\n",
       "      <td>instant coffee granules</td>\n",
       "    </tr>\n",
       "    <tr>\n",
       "      <th>4</th>\n",
       "      <td>ground</td>\n",
       "      <td>1 teaspoon ground cinnamon</td>\n",
       "      <td>cinnamon</td>\n",
       "      <td>NaN</td>\n",
       "      <td>1</td>\n",
       "      <td>teaspoon</td>\n",
       "      <td>1</td>\n",
       "      <td>teaspoon</td>\n",
       "      <td>cinnamon</td>\n",
       "    </tr>\n",
       "    <tr>\n",
       "      <th>5</th>\n",
       "      <td>for dusting</td>\n",
       "      <td>cocoa powder, for dusting</td>\n",
       "      <td>cocoa powder</td>\n",
       "      <td>,</td>\n",
       "      <td>NaN</td>\n",
       "      <td>NaN</td>\n",
       "      <td>NaN</td>\n",
       "      <td>NaN</td>\n",
       "      <td>cocoa powder</td>\n",
       "    </tr>\n",
       "  </tbody>\n",
       "</table>\n",
       "</div>"
      ],
      "text/plain": [
       "       comment                               input                     name  \\\n",
       "0          NaN              250gram dark-chocolate           dark-chocolate   \n",
       "1          NaN           2 tablespoon golden syrup             golden syrup   \n",
       "2          NaN   568milliliter carton double cream             double cream   \n",
       "3          NaN  4 teaspoon instant coffee granules  instant coffee granules   \n",
       "4       ground          1 teaspoon ground cinnamon                 cinnamon   \n",
       "5  for dusting           cocoa powder, for dusting             cocoa powder   \n",
       "\n",
       "  other            qty        unit qty1       unit1                    name1  \n",
       "0   NaN        250gram         NaN  250        gram           dark-chocolate  \n",
       "1   NaN              2  tablespoon    2  tablespoon             golden syrup  \n",
       "2   NaN  568milliliter      carton  568  milliliter             double cream  \n",
       "3   NaN              4    teaspoon    4    teaspoon  instant coffee granules  \n",
       "4   NaN              1    teaspoon    1    teaspoon                 cinnamon  \n",
       "5     ,            NaN         NaN  NaN         NaN             cocoa powder  "
      ]
     },
     "execution_count": 9,
     "metadata": {},
     "output_type": "execute_result"
    }
   ],
   "source": [
    "df2"
   ]
  },
  {
   "cell_type": "code",
   "execution_count": null,
   "metadata": {
    "collapsed": true
   },
   "outputs": [],
   "source": []
  }
 ],
 "metadata": {
  "kernelspec": {
   "display_name": "Python 3",
   "language": "python",
   "name": "python3"
  },
  "language_info": {
   "codemirror_mode": {
    "name": "ipython",
    "version": 3
   },
   "file_extension": ".py",
   "mimetype": "text/x-python",
   "name": "python",
   "nbconvert_exporter": "python",
   "pygments_lexer": "ipython3",
   "version": "3.6.0"
  }
 },
 "nbformat": 4,
 "nbformat_minor": 2
}
