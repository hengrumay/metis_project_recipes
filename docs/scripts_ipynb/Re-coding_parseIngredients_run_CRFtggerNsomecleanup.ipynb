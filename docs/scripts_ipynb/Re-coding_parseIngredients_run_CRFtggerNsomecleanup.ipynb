{
 "cells": [
  {
   "cell_type": "code",
   "execution_count": null,
   "metadata": {
    "collapsed": true
   },
   "outputs": [],
   "source": [
    "## tidied up scripts -- Mar 2017"
   ]
  },
  {
   "cell_type": "markdown",
   "metadata": {},
   "source": [
    "#### Using NYT's CRF ingredient tagger as a means to 'clean' up the ingredients a little more...  \n",
    "\n",
    "Refs.  \n",
    "- https://github.com/hengrumay/ingredient-phrase-tagger || https://github.com/NYTimes/ingredient-phrase-tagger\n",
    "- http://open.blogs.nytimes.com/2015/04/09/extracting-structured-data-from-recipes-using-conditional-random-fields/?_r=1\n",
    "- https://rajmak.wordpress.com/2016/02/19/structuring-text-using-conditional-random-field-crf-tagging-recipe-ingredient-phrases/\n",
    "   \n",
    "-- ref prior code exploration: `Re-coding_parseIngredients_run_CRFtaggerNsomecleanup_v0.ipynb`   \n",
    "\n",
    "#### However it is still not ideal -- some additional tweaks needed to improve added...   \n",
    "-- `next script ref Retrieve_CRFtaggedCleanedFilesNtidy4use_v0.ipynb`\n",
    "\n",
    "####    \n",
    "\n",
    "\n",
    "\n"
   ]
  },
  {
   "cell_type": "code",
   "execution_count": 1,
   "metadata": {
    "collapsed": true
   },
   "outputs": [],
   "source": [
    "from __future__ import print_function, division\n",
    "\n",
    "import pandas as pd\n",
    "import numpy as np\n",
    "\n",
    "import pickle"
   ]
  },
  {
   "cell_type": "code",
   "execution_count": 2,
   "metadata": {
    "collapsed": true
   },
   "outputs": [],
   "source": [
    "filepath = '/Users/hrm/Documents/Dropbox/DSrelated/Metis/recipes/bbc_goodfood_recipes_pickles/'"
   ]
  },
  {
   "cell_type": "code",
   "execution_count": null,
   "metadata": {
    "collapsed": true
   },
   "outputs": [],
   "source": [
    "DF = pd.read_pickle(filepath+'BBCgoodfood_10081recipesNlinks.pkl')"
   ]
  },
  {
   "cell_type": "markdown",
   "metadata": {},
   "source": [
    "### Some tidying before using CRF++"
   ]
  },
  {
   "cell_type": "code",
   "execution_count": null,
   "metadata": {
    "collapsed": true
   },
   "outputs": [],
   "source": [
    "import re\n",
    "import string"
   ]
  },
  {
   "cell_type": "code",
   "execution_count": null,
   "metadata": {
    "collapsed": true
   },
   "outputs": [],
   "source": [
    "def replaceUnits(s):\n",
    "    \n",
    "    metricNtype_unitlabels = {\n",
    "        'tsp'   : 'teaspoon ',\n",
    "        'tbsp'  : 'tablespoon ',\n",
    "        'g'     : 'gram ',\n",
    "        'kg'    : 'kilogram ',\n",
    "        'kg/'   : 'kilogram/ ',\n",
    "        'ml'    : 'milliliter ',\n",
    "        'l'     : 'liter ',\n",
    "    ' kilogram' : 'kilogram',\n",
    "        ' cm'   : 'cm', \n",
    "        \n",
    "        ' fl oz': '_fl_oz ',\n",
    "        \n",
    "     'rounded '  : '',#rounded*',\n",
    "        'round'  : '',\n",
    "    'handful of ': '1 handful ',\n",
    "    'small handful '   : '1 handful ',\n",
    "    'a handful '   : '1 handful ',    \n",
    "        'heaped'  : '',\n",
    "        'a few'   : '2-3',#'a-few',\n",
    "\n",
    "        'can'    : '', #canned ',\n",
    "        'cans'   : '', #canned ',\n",
    "        'pot'    : '',#'potted '\n",
    "        'pots'   : '',#'potted '\n",
    "        'tub'    : '',\n",
    "        'tubs'   : '',        \n",
    "        'jar'    : '',\n",
    "        'pack'   : '',\n",
    "        'bag'    : '',\n",
    "        'sachet' : '',\n",
    "       'sachets' : 'sachets of ',\n",
    "        'punnet' : '',\n",
    "        'tub'    : '',\n",
    "        'pkt'    : '', \n",
    "     'block of ' : '',\n",
    "        \n",
    "       #'bunch' : '1*bunch',\n",
    "        \n",
    "        }\n",
    "\n",
    "    for unit, label in metricNtype_unitlabels.items():\n",
    "        #print (unit, label)\n",
    "        #s = s.replace(unit, label)\n",
    "        s = re.sub(r'(?<=[\\d\\s*])%s(\\s)'%(unit), label, s)\n",
    "        \n",
    "        s = s.replace('kg/', 'kilogram /')\n",
    "        s = s.replace('g/', 'gram /')\n",
    "    #         if 'bunch' in s.split(' '):\n",
    "    #             s = s.replace('bunch ', '') \n",
    "    #             #s = s+' bunch'\n",
    "        if 'few drops' in s:\n",
    "            s=s.replace('few drops','') +', few drops'\n",
    "            \n",
    "        if 'good thumb-size' in s:\n",
    "            s=s.replace('good ','')\n",
    "        if 'good pinch ' in s:\n",
    "            s=s.replace('good ','')\n",
    "        \n",
    "        s = s.replace(' x ', '*')\n",
    "        s = s.replace('*x ','*')\n",
    "\n",
    "    return s\n"
   ]
  },
  {
   "cell_type": "code",
   "execution_count": null,
   "metadata": {
    "collapsed": true
   },
   "outputs": [],
   "source": [
    "def recodeFractionStrs(s):    \n",
    "    \n",
    "#     fractionWds = {\n",
    "        \n",
    "#         'half a' : str(1/2),\n",
    "#         'half ' : str(1/2),\n",
    "#         '½ a '  : str(1/2),\n",
    "#         '0.5*a ': str(1/2),\n",
    "#         'a quarter ' : str(1/4),\n",
    "#         ' liter'    : 'liter'\n",
    "\n",
    "#         }\n",
    "    \n",
    "#     for wfrac, facSTR in fractionWds.items():\n",
    "#         s = s.replace(wfrac ,facSTR+'*')\n",
    "        \n",
    "        \n",
    "    fractionStrs = {\n",
    "           '1⁄8': str(1/8),\n",
    "           '3⁄8': str(3/8),\n",
    "           '5⁄8': str(5/8),\n",
    "           '7⁄8': str(7/8),\n",
    "           '1⁄6': str(1/6),\n",
    "           '5⁄6': str(5/6),\n",
    "           '1⁄5': str(1/5),\n",
    "           '2⁄5': str(2/5),\n",
    "           '3⁄5': str(3/5),\n",
    "           '4⁄5': str(4/5),\n",
    "           '1⁄4': str(1/4),          \n",
    "           '3⁄4': str(3/4),\n",
    "           '1⁄3': str(1/3),\n",
    "           '2⁄3': str(2/3),\n",
    "           '1⁄2': str(1/2),\n",
    "            \n",
    "            '⅛': str(1/8),\n",
    "            '⅜': str(3/8),\n",
    "            '⅝': str(5/8),\n",
    "            '⅞': str(7/8),\n",
    "            '⅙': str(1/6),\n",
    "            '⅚': str(5/6),\n",
    "            '⅕': str(1/5),\n",
    "            '⅖': str(2/5),\n",
    "            '⅗': str(3/5),\n",
    "            '⅘': str(4/5),\n",
    "            '¼': str(1/4),\n",
    "            '¾': str(3/4),\n",
    "            '⅓': str(1/3),\n",
    "            '⅔': str(2/3),\n",
    "            '½': str(1/2),        \n",
    "    }\n",
    "\n",
    "\n",
    "    for ufrac, fracStr in fractionStrs.items():\n",
    "        #print (unit, label)\n",
    "        #s = s.replace(unit, label)\n",
    "        s = re.sub(r'(?<=[\\d\\s*])%s(\\s)'%(ufrac), '+'+fracStr+' ', s)\n",
    "        #s = re.sub(r'^(\\s*)%s(\\s*)'%('½'), '1/2*', DF.ingred[32][-1])\n",
    "        s = re.sub(r'^(\\s*)%s(\\s*)'%(ufrac), fracStr+'*', s)\n",
    "        \n",
    "        s = s.replace(ufrac+'-','+'+fracStr+'to')\n",
    "        s = s.replace(ufrac,'+'+fracStr+' ')\n",
    "        s = s.replace(' '+ufrac,'+'+fracStr+' ')\n",
    "        s = s.replace(' '+'+'+fracStr+' ','+'+fracStr+' ')\n",
    "    \n",
    "    s = s.replace('half a',str(1/2)+'*')\n",
    "    s = s.replace('half ',str(1/2)+'*')\n",
    "    s = s.replace('½ a ',str(1/2)+'*')\n",
    "    s = s.replace('0.5*a ',str(1/2)+'*')\n",
    "    \n",
    "    s = s.replace('a quarter',str(1/4)+'*')\n",
    "    s = s.replace(' liter','liter')\n",
    "    s = s.replace('0.5* glass','0.5*glass')\n",
    "    \n",
    "\n",
    "    return s"
   ]
  },
  {
   "cell_type": "code",
   "execution_count": null,
   "metadata": {
    "collapsed": true
   },
   "outputs": [],
   "source": [
    "def renameSomeIngredients(s):\n",
    "\n",
    "    IngdName = {\n",
    "        'spring onion' : 'spring-onion',\n",
    "        'bok choi'     : 'bok-choi',\n",
    "        'pak choi'     : 'pak-choi',\n",
    "        'nam pla'      : 'nam-pla',\n",
    "        'kecap manis'  : 'kecap-manis',\n",
    "        'kaffir lime'  : 'Kaffir lime',\n",
    "        'egg white'    : 'egg-white',\n",
    "        'egg yolk'    : 'egg-yolk',\n",
    "        'yolk'        : 'egg-yolk',\n",
    "        \n",
    "        'dark chocolate' : 'dark-chocolate',\n",
    "        \n",
    "        'milliliter coconut milk' : 'milliliter, coconut milk',\n",
    "        \n",
    "        'chilli deseeded'    : 'chilli, deseeded',\n",
    "        'pepper deseeded'    : 'pepper, deseeded',\n",
    "        \n",
    "        'finely grated zest' : 'the zest of',\n",
    "        'grated zest'        : 'the zest of',\n",
    "                   'zest '   :   'the zest of ',\n",
    "        'juice 1 lime'      : '1 lime, juiced', \n",
    "        'juice of 1 lime'   : '1 lime, juiced',\n",
    "        'juice 2 limes'     : '2 limes, juiced ',\n",
    "        #'and juice 1'   : 'and juice of 1',\n",
    "        'juice of and 1 lime'     :  '1 lime and its juice',\n",
    "        'zest and juice'   : '#zest&juice',\n",
    "        'juice of+'          : 'juice of +',\n",
    "        '1 lemon and 1 orange': '1 each of lemon&orange',\n",
    "        \n",
    "\n",
    "        'Cointreau or Grand Marnier'  : 'Cointreau-or-Grand-Marnier',\n",
    "        \n",
    "        'iceberg lettuce'    : 'iceberg-lettuce',\n",
    "        \n",
    "        'ancho or other large dried chilli, ' : 'dried ancho chilli, (',\n",
    "        \n",
    "        'tomatoes, whole or chopped ' : 'whole or chopped tomatoes (',\n",
    "        'tomato in oil'    : 'tomato',\n",
    "        'sundried tomato'  : 'sundried-tomato,',\n",
    "        'plum tomato '   : 'plum tomato, ',\n",
    "        'fresh tomato pasta sauce' : 'fresh tomato pasta-sauce,',\n",
    "        \n",
    "        'pickled red cabbage'   : 'red cabbage, pickled,',\n",
    "        'artichoke hearts'    :    'artichoke-hearts,',\n",
    "        'cooked rice'    : 'rice, cooked,' ,\n",
    "        \n",
    "        'seeds scraped from 1 vanilla pod or ' : '', #1 vanilla pod',\n",
    "        'seeds+0.5 vanilla pod or'             : '',\n",
    "        \n",
    "        'cinnamon, fennel seeds, ground cumin' : 'cinnamon&fennel-seeds&ground-cumin',\n",
    "        'chickpeas or'  : 'chickpeas, or',\n",
    "        \n",
    "        'grated emmental or gruyère'  :   'emmental/gruyère, grated ',\n",
    "        'tortilla chips or homemade tortilla strips ' : 'tortilla chips or strips ',\n",
    "        \n",
    "        'full-fat'  : '',\n",
    "        'butter '    : 'butter, ',\n",
    "        \n",
    "        'sprigs'    : 'sprigs,' ,\n",
    "        \n",
    "        'good-quality,'  : '',\n",
    "        'firm,'   : '',\n",
    "        'fat, fresh'  : 'large fresh',\n",
    "        \n",
    "        '*cucumber'   : '* cucumber,',\n",
    "        '*garlic'     : '* garlic,',\n",
    "        '*teaspoon'   : ' * teaspoon',\n",
    "        '*table'   : ' * table',\n",
    "        \n",
    "    }\n",
    "    \n",
    "    for listwds, name in IngdName.items():\n",
    "        s = s.replace(listwds,name)\n",
    "    \n",
    "    return s"
   ]
  },
  {
   "cell_type": "code",
   "execution_count": null,
   "metadata": {
    "collapsed": true
   },
   "outputs": [],
   "source": [
    "DF['ingred00'] = DF.ingred.apply(lambda x: [renameSomeIngredients(i) for i in x])"
   ]
  },
  {
   "cell_type": "code",
   "execution_count": null,
   "metadata": {
    "collapsed": true
   },
   "outputs": [],
   "source": [
    "DF['ingred0'] = DF.ingred00.apply(lambda x: [recodeFractionStrs(i) for i in x])"
   ]
  },
  {
   "cell_type": "code",
   "execution_count": null,
   "metadata": {
    "collapsed": true
   },
   "outputs": [],
   "source": [
    "# DF['ingred1'] = DF.ingred.map(lambda x: [replaceUnits(n) for n in x])\n",
    "DF['ingred1'] = DF.ingred0.map(lambda x: [replaceUnits(n) for n in x])"
   ]
  },
  {
   "cell_type": "code",
   "execution_count": null,
   "metadata": {
    "collapsed": true
   },
   "outputs": [],
   "source": [
    "DF"
   ]
  },
  {
   "cell_type": "markdown",
   "metadata": {},
   "source": [
    "### CRF++ USAGE HERE \n",
    "\n",
    "takes a while to run..."
   ]
  },
  {
   "cell_type": "code",
   "execution_count": 3,
   "metadata": {
    "collapsed": false
   },
   "outputs": [],
   "source": [
    "from __future__ import print_function\n",
    "\n",
    "import sys\n",
    "import os\n",
    "import tempfile\n",
    "\n",
    "# from ingredient_phrase_tagger.training import utils\n",
    "\n",
    "import sklearn\n",
    "import pycrfsuite"
   ]
  },
  {
   "cell_type": "code",
   "execution_count": 4,
   "metadata": {
    "collapsed": false
   },
   "outputs": [],
   "source": [
    "## MUST change dir to run following scripts! Do Once...\n",
    "os.chdir(os.path.dirname('./ingredient-phrase-tagger-master/'))\n",
    "# !pwd\n",
    "\n",
    "from ingredient_phrase_tagger.training import utils"
   ]
  },
  {
   "cell_type": "code",
   "execution_count": 5,
   "metadata": {
    "collapsed": true
   },
   "outputs": [],
   "source": [
    "# print(os.getcwd())\n",
    "# os.getcwd() \n",
    "Modelpath = '/Users/hrm/Documents/Dropbox/DSrelated/Metis/recipes/ingredient-phrase-tagger-master/'\n",
    "Folderpath = '/Users/hrm/Documents/Dropbox/DSrelated/Metis/recipes'"
   ]
  },
  {
   "cell_type": "code",
   "execution_count": 6,
   "metadata": {
    "collapsed": true
   },
   "outputs": [],
   "source": [
    "crf_filespath = Folderpath +'/crf_tagger_files/'"
   ]
  },
  {
   "cell_type": "code",
   "execution_count": null,
   "metadata": {
    "collapsed": true
   },
   "outputs": [],
   "source": [
    "filename = [crf_filespath + 'bbcgdfd_'+str(i)+'.txt' for i in list(DF.index)]"
   ]
  },
  {
   "cell_type": "code",
   "execution_count": null,
   "metadata": {
    "collapsed": true
   },
   "outputs": [],
   "source": [
    "###################################################################################"
   ]
  },
  {
   "cell_type": "code",
   "execution_count": null,
   "metadata": {
    "collapsed": true
   },
   "outputs": [],
   "source": [
    "## Convert list of ingredients to textfiles using write\n",
    "for f in range(len(filename)):\n",
    "    #print(f)\n",
    "    with open(filename[f], 'w') as outfile:\n",
    "        outfile.write(\"\\n\".join(DF.ingred1[f]))\n",
    "        #outfile.write(\"\\n\".join(DF.ingred[f]))"
   ]
  },
  {
   "cell_type": "code",
   "execution_count": null,
   "metadata": {
    "collapsed": true
   },
   "outputs": [],
   "source": [
    "for f in range(len(filename)):\n",
    "    \n",
    "    with open(filename[f], 'r') as infile, open('tmp.txt', 'w') as outfile:\n",
    "        outfile.write(utils.export_data(infile.readlines()))\n",
    "\n",
    "    modelFilename = Modelpath +'/tmp/model_file'\n",
    "    tmpFile = Modelpath +'/tmp.txt'\n",
    "    outFile = crf_filespath +'bbcgdfd_'+str(f)+'o.txt'\n",
    "\n",
    "    os.system(\"crf_test -v1 -m %s %s > %s\" % (modelFilename,tmpFile,outFile))\n",
    "    os.system(\"rm %s\" % tmpFile)"
   ]
  },
  {
   "cell_type": "code",
   "execution_count": null,
   "metadata": {
    "collapsed": true
   },
   "outputs": [],
   "source": [
    "###################################################################################"
   ]
  },
  {
   "cell_type": "markdown",
   "metadata": {},
   "source": [
    "### Check -- readfile"
   ]
  },
  {
   "cell_type": "code",
   "execution_count": 7,
   "metadata": {
    "collapsed": false
   },
   "outputs": [],
   "source": [
    "# readfile = crf_filespath +'bbcgdfd_'+str(4)+'o.txt'\n",
    "outtest = utils.import_data(open(crf_filespath +'bbcgdfd_'+str(8888)+'o.txt')) "
   ]
  },
  {
   "cell_type": "code",
   "execution_count": 8,
   "metadata": {
    "collapsed": false
   },
   "outputs": [
    {
     "data": {
      "text/html": [
       "<div>\n",
       "<table border=\"1\" class=\"dataframe\">\n",
       "  <thead>\n",
       "    <tr style=\"text-align: right;\">\n",
       "      <th></th>\n",
       "      <th>comment</th>\n",
       "      <th>input</th>\n",
       "      <th>name</th>\n",
       "      <th>other</th>\n",
       "      <th>qty</th>\n",
       "      <th>unit</th>\n",
       "    </tr>\n",
       "  </thead>\n",
       "  <tbody>\n",
       "    <tr>\n",
       "      <th>0</th>\n",
       "      <td>NaN</td>\n",
       "      <td>500milliliter double cream</td>\n",
       "      <td>double cream</td>\n",
       "      <td>NaN</td>\n",
       "      <td>500milliliter</td>\n",
       "      <td>NaN</td>\n",
       "    </tr>\n",
       "    <tr>\n",
       "      <th>1</th>\n",
       "      <td>broken into chunks</td>\n",
       "      <td>300gram dark-chocolate, broken into chunks</td>\n",
       "      <td>dark-chocolate</td>\n",
       "      <td>,</td>\n",
       "      <td>300gram</td>\n",
       "      <td>NaN</td>\n",
       "    </tr>\n",
       "    <tr>\n",
       "      <th>2</th>\n",
       "      <td>sifted</td>\n",
       "      <td>2 tablespoon icing sugar, sifted</td>\n",
       "      <td>icing sugar</td>\n",
       "      <td>,</td>\n",
       "      <td>2</td>\n",
       "      <td>tablespoon</td>\n",
       "    </tr>\n",
       "    <tr>\n",
       "      <th>3</th>\n",
       "      <td>NaN</td>\n",
       "      <td>a few sachets of sherbet</td>\n",
       "      <td>few sachets of sherbet</td>\n",
       "      <td>NaN</td>\n",
       "      <td>a</td>\n",
       "      <td>NaN</td>\n",
       "    </tr>\n",
       "    <tr>\n",
       "      <th>4</th>\n",
       "      <td>NaN</td>\n",
       "      <td>200milliliter whipping cream</td>\n",
       "      <td>whipping cream</td>\n",
       "      <td>NaN</td>\n",
       "      <td>200milliliter</td>\n",
       "      <td>NaN</td>\n",
       "    </tr>\n",
       "    <tr>\n",
       "      <th>5</th>\n",
       "      <td>NaN</td>\n",
       "      <td>50milliliter Prosecco ,</td>\n",
       "      <td>Prosecco</td>\n",
       "      <td>,</td>\n",
       "      <td>50milliliter</td>\n",
       "      <td>NaN</td>\n",
       "    </tr>\n",
       "    <tr>\n",
       "      <th>6</th>\n",
       "      <td>sifted</td>\n",
       "      <td>2 tablespoon icing sugar, sifted</td>\n",
       "      <td>icing sugar</td>\n",
       "      <td>,</td>\n",
       "      <td>2</td>\n",
       "      <td>tablespoon</td>\n",
       "    </tr>\n",
       "  </tbody>\n",
       "</table>\n",
       "</div>"
      ],
      "text/plain": [
       "              comment                                       input  \\\n",
       "0                 NaN                  500milliliter double cream   \n",
       "1  broken into chunks  300gram dark-chocolate, broken into chunks   \n",
       "2              sifted            2 tablespoon icing sugar, sifted   \n",
       "3                 NaN                    a few sachets of sherbet   \n",
       "4                 NaN                200milliliter whipping cream   \n",
       "5                 NaN                     50milliliter Prosecco ,   \n",
       "6              sifted            2 tablespoon icing sugar, sifted   \n",
       "\n",
       "                     name other            qty        unit  \n",
       "0            double cream   NaN  500milliliter         NaN  \n",
       "1          dark-chocolate     ,        300gram         NaN  \n",
       "2             icing sugar     ,              2  tablespoon  \n",
       "3  few sachets of sherbet   NaN              a         NaN  \n",
       "4          whipping cream   NaN  200milliliter         NaN  \n",
       "5                Prosecco     ,   50milliliter         NaN  \n",
       "6             icing sugar     ,              2  tablespoon  "
      ]
     },
     "execution_count": 8,
     "metadata": {},
     "output_type": "execute_result"
    }
   ],
   "source": [
    "df0 = pd.DataFrame(outtest).drop('display',axis=1)\n",
    "df0"
   ]
  },
  {
   "cell_type": "code",
   "execution_count": null,
   "metadata": {
    "collapsed": true
   },
   "outputs": [],
   "source": []
  },
  {
   "cell_type": "code",
   "execution_count": null,
   "metadata": {
    "collapsed": true
   },
   "outputs": [],
   "source": [
    "### Requires further tidying up of CRF outputs... e.g. qty wrt metric units\n",
    "# REF Retrieve_CRFtaggedCleanedFilesNtidy4use_v0"
   ]
  }
 ],
 "metadata": {
  "kernelspec": {
   "display_name": "Python 3",
   "language": "python",
   "name": "python3"
  },
  "language_info": {
   "codemirror_mode": {
    "name": "ipython",
    "version": 3
   },
   "file_extension": ".py",
   "mimetype": "text/x-python",
   "name": "python",
   "nbconvert_exporter": "python",
   "pygments_lexer": "ipython3",
   "version": "3.6.0"
  }
 },
 "nbformat": 4,
 "nbformat_minor": 2
}
