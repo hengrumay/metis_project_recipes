{
 "cells": [
  {
   "cell_type": "markdown",
   "metadata": {
    "collapsed": true
   },
   "source": [
    "#### Using a set of functions to help tidy/clean up the scraped recipe html soup info. and retrieve relevant parameters of interest"
   ]
  },
  {
   "cell_type": "code",
   "execution_count": null,
   "metadata": {
    "collapsed": true
   },
   "outputs": [],
   "source": []
  },
  {
   "cell_type": "code",
   "execution_count": 1,
   "metadata": {
    "collapsed": true
   },
   "outputs": [],
   "source": [
    "from __future__ import print_function, division\n",
    "\n",
    "# import matplotlib\n",
    "# % matplotlib inline\n",
    "\n",
    "import pandas as pd\n",
    "import numpy as np\n",
    "# import datetime as dt\n",
    "# import matplotlib.pyplot as plt\n",
    "\n",
    "\n",
    "from bs4 import BeautifulSoup\n",
    "import requests\n",
    "import re\n",
    "import time\n",
    "import sys\n",
    "\n",
    "from recipe_scrapers import scrap_me\n",
    "import pickle"
   ]
  },
  {
   "cell_type": "code",
   "execution_count": null,
   "metadata": {
    "collapsed": false
   },
   "outputs": [],
   "source": [
    "# scrapeInt = [int(i) for i in np.round(np.linspace(0, 10081,100))]"
   ]
  },
  {
   "cell_type": "code",
   "execution_count": null,
   "metadata": {
    "collapsed": true
   },
   "outputs": [],
   "source": []
  },
  {
   "cell_type": "code",
   "execution_count": 2,
   "metadata": {
    "collapsed": true
   },
   "outputs": [],
   "source": [
    "# function to find index of capitalized character in string of words\n",
    "\n",
    "def getCAPcharIndices(s):\n",
    "    return [i for i, c in enumerate(s) if c.isupper()]"
   ]
  },
  {
   "cell_type": "code",
   "execution_count": 3,
   "metadata": {
    "collapsed": true
   },
   "outputs": [],
   "source": [
    "# 27Nov2016 edited\n",
    "\n",
    "def getBracketIndices(s):\n",
    "    return [i for i, c in enumerate(s) if c=='(']"
   ]
  },
  {
   "cell_type": "code",
   "execution_count": null,
   "metadata": {
    "collapsed": true
   },
   "outputs": [],
   "source": []
  },
  {
   "cell_type": "code",
   "execution_count": 4,
   "metadata": {
    "collapsed": true
   },
   "outputs": [],
   "source": [
    "# this will run through all recipes in list of recipes and strip-clean the ingredients...\n",
    "## older version -- with some imperfections but still pretty good\n",
    "\n",
    "def CleanupRecipeIngredients0(Recipes):\n",
    "    cnt=0\n",
    "    for rcp in Recipes:\n",
    "        rcp_ingd = rcp.ingredients()\n",
    "        tmp=[]\n",
    "    #     print(rcp_ingd)\n",
    "        for ingd in rcp_ingd:\n",
    "    #         print(ingd)\n",
    "            idx = getCAPcharIndices(ingd)\n",
    "    #         print(idx)\n",
    "            if idx==[]:\n",
    "    #             print(ingd)\n",
    "                tmp.append(ingd)\n",
    "            else:\n",
    "    #             print(ingd[:idx[0]])\n",
    "                #tmp.append(ingd[:idx[0]])\n",
    "                tmp.append(ingd[:idx[0]-1]) # 11Feb2017\n",
    "    #         print(tmp)\n",
    "        Recipes[cnt].ingredients1=tmp\n",
    "        cnt +=1\n",
    "    return Recipes"
   ]
  },
  {
   "cell_type": "code",
   "execution_count": 5,
   "metadata": {
    "collapsed": true
   },
   "outputs": [],
   "source": [
    "## 24-27Nov2016 edited -- tried to add additional parameters -- some imperfections no less\n",
    "def CleanupRecipeIngredients(Recipes):\n",
    "    cnt=0\n",
    "    for rcp in Recipes:\n",
    "        #print(cnt)\n",
    "        rcp_ingd = rcp.ingredients()\n",
    "        tmp=[]\n",
    "        #print(rcp_ingd)\n",
    "        for ingd in rcp_ingd:\n",
    "            #print(ingd)\n",
    "            idx = getCAPcharIndices(ingd)\n",
    "            idbk = getBracketIndices(ingd)\n",
    "            #print(idbk)\n",
    "            #print(idx)\n",
    "            if idx==[] or len(idx)==1:\n",
    "                #print(ingd)\n",
    "                tmp.append(ingd.strip())\n",
    "            else:               \n",
    "                #print(ingd[:idx[0]])\n",
    "                #tmp.append(ingd[:idx[0]])\n",
    "                ix = list(sum(np.where(np.array(idx)>15)))\n",
    "        \n",
    "                #if len(idx)==1:\n",
    "                #    tmp.append(ingd[:idx[0]].strip())\n",
    "                \n",
    "                if len(idx)>1 and idbk!=[]:\n",
    "                    if idx[0]<idbk[0]:\n",
    "                        tmp.append(ingd.strip())\n",
    "\n",
    "                elif len(idx)>1 and (idx[0]<3 or idx[0]<14):\n",
    "                    tmp.append(ingd[:idx[1]].strip())\n",
    "                    \n",
    "                elif len(idx)>1 and idx[0]<=14:\n",
    "                    tmp.append(ingd[:idx[0]].strip())\n",
    "                \n",
    "                elif ix!=[] :\n",
    "                    #print(ingd)\n",
    "                    tmp.append(ingd[:idx[ix[0]]].strip())\n",
    "                    #print(tmp)\n",
    "                    \n",
    "        Recipes[cnt].ingredients2=tmp\n",
    "        cnt +=1\n",
    "    return Recipes"
   ]
  },
  {
   "cell_type": "code",
   "execution_count": null,
   "metadata": {
    "collapsed": true
   },
   "outputs": [],
   "source": [
    "# CleanupRecipeIngredients(Recipes)"
   ]
  },
  {
   "cell_type": "code",
   "execution_count": 6,
   "metadata": {
    "collapsed": false
   },
   "outputs": [],
   "source": [
    "def CleanupRecipeInstructions(Recipes):\n",
    "    cnt=0\n",
    "    for rcp in Recipes:\n",
    "        # print (rcp.instructions())\n",
    "        updateInstruct = rcp.instructions().replace('\\n',' ')\n",
    "        \n",
    "        Recipes[cnt].instructions2 = updateInstruct\n",
    "        cnt +=1\n",
    "    return Recipes"
   ]
  },
  {
   "cell_type": "code",
   "execution_count": null,
   "metadata": {
    "collapsed": false
   },
   "outputs": [],
   "source": [
    "# CleanupRecipeInstructions(Recipes);"
   ]
  },
  {
   "cell_type": "code",
   "execution_count": null,
   "metadata": {
    "collapsed": false
   },
   "outputs": [],
   "source": []
  },
  {
   "cell_type": "code",
   "execution_count": null,
   "metadata": {
    "collapsed": false
   },
   "outputs": [],
   "source": [
    "# for sI in range(40,100):#range(1,len(scrapeInt)): #80,len(scrapeInt)\n",
    "#     filename = (\"scrapedInfo_BBCgdfd_\" + format(scrapeInt[sI-1] ) + \"to\" + format(scrapeInt[sI] ) + \"recipes.p\")\n",
    "#     #print(filename)\n",
    "#     print(format(sI) +': CLEANING Ingredients & Instructions') #== pickle-load : ' +filename)\n",
    "    \n",
    "#     with open(filename, \"rb\") as f:\n",
    "#         Recipes = pickle.load(f)\n",
    "    \n",
    "#     CleanupRecipeIngredients(Recipes)\n",
    "#     CleanupRecipeInstructions(Recipes);\n",
    "    \n",
    "#     with open(filename, \"wb\") as f:\n",
    "#         pickle.dump(Recipes, f)\n",
    "#     print('Cleanedup -- pickle-dumped : ' +filename)"
   ]
  },
  {
   "cell_type": "code",
   "execution_count": null,
   "metadata": {
    "collapsed": true
   },
   "outputs": [],
   "source": []
  },
  {
   "cell_type": "code",
   "execution_count": null,
   "metadata": {
    "collapsed": true
   },
   "outputs": [],
   "source": []
  },
  {
   "cell_type": "code",
   "execution_count": 7,
   "metadata": {
    "collapsed": true
   },
   "outputs": [],
   "source": [
    "## check prep-cook-times HTML TAGs\n",
    "def checkPrepCookFullClassTags(recipeInfo):\n",
    "    prepNone, cookNone, fullNone = (recipeInfo.soup.find('span', {'class': 'recipe-details__cooking-time-prep'}) == None, #false=value\n",
    "                                    recipeInfo.soup.find('span', {'class': 'recipe-details__cooking-time-cook'}) == None,\n",
    "                                    recipeInfo.soup.find('span', {'class': 'recipe-details__cooking-time-full'}) == None) #true=empty\n",
    "    return prepNone, cookNone, fullNone"
   ]
  },
  {
   "cell_type": "code",
   "execution_count": null,
   "metadata": {
    "collapsed": true
   },
   "outputs": [],
   "source": []
  },
  {
   "cell_type": "code",
   "execution_count": 8,
   "metadata": {
    "collapsed": true
   },
   "outputs": [],
   "source": [
    "def checkNgetPrepTime(recipeInfo,prepNone):\n",
    "    if prepNone == False:\n",
    "        #print('has info')\n",
    "        prep_hr = recipeInfo.soup.find('span', {'class': 'recipe-details__cooking-time-prep'}).find_all('span',{'class':'hrs'})  \n",
    "        if prep_hr==[]:\n",
    "            prep_hr_val = np.nan\n",
    "        else:\n",
    "#             prep_hr_val = int(prep_hr[0].text.replace(' hrs','').replace(' hr',''))\n",
    "            if len(prep_hr)==1:\n",
    "                prep_hr_val = int(prep_hr[0].text.replace(' hrs','').replace(' hr',''))\n",
    "            else:\n",
    "                prep_hr_val = int(prep_hr[len(prep_hr)-1].text.replace(' hrs','').replace(' hr',''))\n",
    "\n",
    "\n",
    "        prep_min = recipeInfo.soup.find('span', {'class': 'recipe-details__cooking-time-prep'}).find_all('span',{'class':'mins'})\n",
    "        if prep_min==[]:\n",
    "            prep_min_val = np.nan\n",
    "\n",
    "        else:\n",
    "#             prep_min_val = int(prep_min[0].text.replace(' mins','').replace(' min',''))\n",
    "            if len(prep_min)==1:\n",
    "                prep_min_val = int(prep_min[0].text.replace(' mins','').replace(' min',''))\n",
    "            else:\n",
    "                prep_min_val = int(prep_min[len(prep_min)-1].text.replace(' mins','').replace(' min',''))\n",
    "\n",
    "        preptime = np.nansum(np.array([prep_min_val, prep_hr_val*60]) )\n",
    "        return preptime"
   ]
  },
  {
   "cell_type": "code",
   "execution_count": 9,
   "metadata": {
    "collapsed": true
   },
   "outputs": [],
   "source": [
    "def checkNgetCookingTime(recipeInfo,cookNone):\n",
    "\n",
    "    if cookNone == False:\n",
    "\n",
    "        cook_hr = recipeInfo.soup.find('span', {'class': 'recipe-details__cooking-time-cook'}).find_all('span',{'class':'hrs'})\n",
    "        if cook_hr==[]:\n",
    "            cook_hr_val = np.nan\n",
    "        else:\n",
    "#             cook_hr_val = int(cook_hr[0].text.replace(' hrs','').replace(' hr',''))\n",
    "            if len(cook_hr)==1:\n",
    "                cook_hr_val = int(cook_hr[0].text.replace(' hrs','').replace(' hr',''))\n",
    "            else:\n",
    "                cook_hr_val = int(cook_hr[len(cook_hr)-1].text.replace(' hrs','').replace(' hr',''))\n",
    "\n",
    "        cook_min = recipeInfo.soup.find('span', {'class': 'recipe-details__cooking-time-cook'}).find_all('span',{'class':'mins'})\n",
    "        if cook_min==[]:\n",
    "            cook_min_val = np.nan\n",
    "            \n",
    "        else:\n",
    "#             cook_min_val = int(cook_min[0].text.replace(' mins','').replace(' min',''))\n",
    "            if len(cook_min)==1:\n",
    "                cook_min_val = int(cook_min[0].text.replace(' mins','').replace(' min',''))\n",
    "            else:\n",
    "                cook_min_val = int(cook_min[len(cook_min)-1].text.replace(' mins','').replace(' min',''))\n",
    "\n",
    "        cooktime = np.nansum(np.array([cook_min_val, cook_hr_val*60]) ) \n",
    "        return cooktime"
   ]
  },
  {
   "cell_type": "code",
   "execution_count": 10,
   "metadata": {
    "collapsed": true
   },
   "outputs": [],
   "source": [
    "def checkNgetFullCookingPrepInfo(recipeInfo, fullNone):\n",
    "    if fullNone == False:\n",
    "        prepInfo = recipeInfo.soup.find('span', {'class': 'recipe-details__cooking-time-full'}).text\n",
    "        #print(prepInfo)\n",
    "        return prepInfo\n",
    "    else:\n",
    "        return None"
   ]
  },
  {
   "cell_type": "code",
   "execution_count": 11,
   "metadata": {
    "collapsed": false
   },
   "outputs": [],
   "source": [
    "def checkNgetPrepCookFullTimesInfo(Recipes):\n",
    "    cnt=0\n",
    "    for recipeInfo in Recipes:\n",
    "#         print(cnt)\n",
    "        \n",
    "        prepNone, cookNone, fullNone = checkPrepCookFullClassTags(recipeInfo)\n",
    "\n",
    "        Time2prep_mins = checkNgetPrepTime(recipeInfo,prepNone)\n",
    "        Time2cook_mins = checkNgetCookingTime(recipeInfo,cookNone)\n",
    "        prepInfo = checkNgetFullCookingPrepInfo(recipeInfo,fullNone)\n",
    "\n",
    "        if Time2prep_mins != np.nan:\n",
    "            Recipes[cnt].prepTime_mins = Time2prep_mins\n",
    "        else:\n",
    "            Recipes[cnt].prepTime_mins = np.nan\n",
    "\n",
    "        if Time2cook_mins != np.nan:    \n",
    "            Recipes[cnt].cookTime_mins = Time2cook_mins\n",
    "        else:\n",
    "            Recipes[cnt].cookTime_mins = np.nan\n",
    "\n",
    "        if recipeInfo != None:\n",
    "            Recipes[cnt].prepInfo = prepInfo\n",
    "        else:\n",
    "            Recipes[cnt].prepInfo = None\n",
    "        \n",
    "#         if hasattr(recipeInfo, 'recipeInfo') == True:\n",
    "#             del recipeInfo.recipeInfo\n",
    "                \n",
    "        cnt +=1\n",
    "\n",
    "    return Recipes"
   ]
  },
  {
   "cell_type": "code",
   "execution_count": 12,
   "metadata": {
    "collapsed": true
   },
   "outputs": [],
   "source": [
    "def GetRecipeDifficulty(Recipes):\n",
    "    cnt=0\n",
    "    for recipeInfo in Recipes:\n",
    "        prepDifficulty = recipeInfo.soup.find('span', {'class': 'recipe-details__text'}).text.strip(' ')\n",
    "        \n",
    "        Recipes[cnt].prepDifficulty = prepDifficulty\n",
    "        cnt +=1\n",
    "        \n",
    "    return Recipes"
   ]
  },
  {
   "cell_type": "code",
   "execution_count": 13,
   "metadata": {
    "collapsed": true
   },
   "outputs": [],
   "source": [
    "def GetRecipeYield(Recipes):\n",
    "    cnt=0\n",
    "    for recipeInfo in Recipes:\n",
    "        recpYield = recipeInfo.soup.find('span', {'itemprop': 'recipeYield'}).text.strip(' ')\n",
    "        \n",
    "        Recipes[cnt].recpYield = recpYield\n",
    "        cnt +=1\n",
    "        \n",
    "    return Recipes"
   ]
  },
  {
   "cell_type": "code",
   "execution_count": 14,
   "metadata": {
    "collapsed": true
   },
   "outputs": [],
   "source": [
    "def GetExtraRecipeInfo(Recipes):\n",
    "    cnt=0\n",
    "    for recipeInfo in Recipes:\n",
    "        moreInfo = recipeInfo.soup.find('div',{'class':'recipe-header__more-info-inner'}).find_all({'i':'class'})\n",
    "        extraRecipeInfo = [i['class'][1].replace('font-icon-','').replace('-extra-small','') for i in moreInfo]\n",
    "        \n",
    "        Recipes[cnt].extraRecipeInfo = extraRecipeInfo\n",
    "        cnt +=1\n",
    "        \n",
    "    return Recipes"
   ]
  },
  {
   "cell_type": "code",
   "execution_count": 15,
   "metadata": {
    "collapsed": true
   },
   "outputs": [],
   "source": [
    "def GetRecipeRatings(Recipes):\n",
    "    cnt=0\n",
    "    for recipeInfo in Recipes:\n",
    "        \n",
    "        Nraters = int(recipeInfo.soup.find(\n",
    "            'div', {'class': 'rate-info'}).text.strip(' ').replace('(','').replace(' ratings)','') ) \n",
    "        if Nraters!=0:\n",
    "            AggRating = float(recipeInfo.soup.find('meta', {'itemprop': 'ratingValue'})['content'])\n",
    "            RatersNRatings = [Nraters, AggRating]\n",
    "            #print(RatersNRatings)\n",
    "        else:\n",
    "            RatersNRatings = [Nraters, np.nan]\n",
    "        \n",
    "        Recipes[cnt].RatersNRatings = RatersNRatings\n",
    "        cnt +=1\n",
    "        \n",
    "    return Recipes"
   ]
  },
  {
   "cell_type": "code",
   "execution_count": 16,
   "metadata": {
    "collapsed": true
   },
   "outputs": [],
   "source": [
    "def GetAuthorInfo(Recipes):\n",
    "    cnt=0\n",
    "    for recipeInfo in Recipes:\n",
    "        \n",
    "        authorInfoExist = recipeInfo.soup.find('div',{'class':'recipe-header__chef recipe-header__chef--second'})!=None\n",
    "\n",
    "        if authorInfoExist:\n",
    "            authorInfo = recipeInfo.soup.find('div',{'class':'recipe-header__chef recipe-header__chef--second'}).find(\n",
    "            'span',{'class':'author'}).text\n",
    "            #print(authorInfo)\n",
    "        else:\n",
    "            authorInfo = np.nan\n",
    "            #print('none')\n",
    "            \n",
    "        Recipes[cnt].authorInfo = authorInfo\n",
    "        cnt +=1\n",
    "        \n",
    "    return Recipes"
   ]
  },
  {
   "cell_type": "code",
   "execution_count": 17,
   "metadata": {
    "collapsed": true
   },
   "outputs": [],
   "source": [
    "## 24-26Nov2016 added\n",
    "\n",
    "def GetRecipeImgLink(Recipes):\n",
    "    cnt=0\n",
    "    for recipeInfo in Recipes:\n",
    "        imgURL = recipeInfo.soup.find('div',{'class': 'img-container'}).find_all({'img':'src'})[0]['src']\n",
    "        \n",
    "        Recipes[cnt].imgURL = imgURL\n",
    "        cnt +=1\n",
    "        \n",
    "    return Recipes"
   ]
  },
  {
   "cell_type": "code",
   "execution_count": null,
   "metadata": {
    "collapsed": false
   },
   "outputs": [],
   "source": []
  },
  {
   "cell_type": "code",
   "execution_count": 18,
   "metadata": {
    "collapsed": true
   },
   "outputs": [],
   "source": [
    "scrapeInt = [int(i) for i in np.round(np.linspace(0, 10081,100))]"
   ]
  },
  {
   "cell_type": "code",
   "execution_count": 19,
   "metadata": {
    "collapsed": true
   },
   "outputs": [],
   "source": [
    "sys.setrecursionlimit(1000000) # else pickle would not pickle.... =S"
   ]
  },
  {
   "cell_type": "code",
   "execution_count": 20,
   "metadata": {
    "collapsed": true
   },
   "outputs": [],
   "source": [
    "## 24-26Nov2016 || 12 Feb 2017 -- re-ran\n",
    "folderpath='/Users/hrm/Documents/Dropbox/DSrelated/Metis/recipes/bbc_goodfood_recipes_pickles/'"
   ]
  },
  {
   "cell_type": "code",
   "execution_count": 21,
   "metadata": {
    "collapsed": false,
    "scrolled": true
   },
   "outputs": [
    {
     "name": "stdout",
     "output_type": "stream",
     "text": [
      "1: CleanupIngredients&Intructions | GET PrepCookFullTime | RecipeInfo | Ratings | Author etc.\n",
      "Cleanedup -- pickle-dumped : /Users/hrm/Documents/Dropbox/DSrelated/Metis/recipes/bbc_goodfood_recipes_pickles/scrapedInfo_BBCgdfd_0to102recipes.p\n",
      "2: CleanupIngredients&Intructions | GET PrepCookFullTime | RecipeInfo | Ratings | Author etc.\n",
      "Cleanedup -- pickle-dumped : /Users/hrm/Documents/Dropbox/DSrelated/Metis/recipes/bbc_goodfood_recipes_pickles/scrapedInfo_BBCgdfd_102to204recipes.p\n",
      "3: CleanupIngredients&Intructions | GET PrepCookFullTime | RecipeInfo | Ratings | Author etc.\n",
      "Cleanedup -- pickle-dumped : /Users/hrm/Documents/Dropbox/DSrelated/Metis/recipes/bbc_goodfood_recipes_pickles/scrapedInfo_BBCgdfd_204to305recipes.p\n",
      "4: CleanupIngredients&Intructions | GET PrepCookFullTime | RecipeInfo | Ratings | Author etc.\n",
      "Cleanedup -- pickle-dumped : /Users/hrm/Documents/Dropbox/DSrelated/Metis/recipes/bbc_goodfood_recipes_pickles/scrapedInfo_BBCgdfd_305to407recipes.p\n",
      "5: CleanupIngredients&Intructions | GET PrepCookFullTime | RecipeInfo | Ratings | Author etc.\n",
      "Cleanedup -- pickle-dumped : /Users/hrm/Documents/Dropbox/DSrelated/Metis/recipes/bbc_goodfood_recipes_pickles/scrapedInfo_BBCgdfd_407to509recipes.p\n",
      "6: CleanupIngredients&Intructions | GET PrepCookFullTime | RecipeInfo | Ratings | Author etc.\n",
      "Cleanedup -- pickle-dumped : /Users/hrm/Documents/Dropbox/DSrelated/Metis/recipes/bbc_goodfood_recipes_pickles/scrapedInfo_BBCgdfd_509to611recipes.p\n",
      "7: CleanupIngredients&Intructions | GET PrepCookFullTime | RecipeInfo | Ratings | Author etc.\n",
      "Cleanedup -- pickle-dumped : /Users/hrm/Documents/Dropbox/DSrelated/Metis/recipes/bbc_goodfood_recipes_pickles/scrapedInfo_BBCgdfd_611to713recipes.p\n",
      "8: CleanupIngredients&Intructions | GET PrepCookFullTime | RecipeInfo | Ratings | Author etc.\n",
      "Cleanedup -- pickle-dumped : /Users/hrm/Documents/Dropbox/DSrelated/Metis/recipes/bbc_goodfood_recipes_pickles/scrapedInfo_BBCgdfd_713to815recipes.p\n",
      "9: CleanupIngredients&Intructions | GET PrepCookFullTime | RecipeInfo | Ratings | Author etc.\n",
      "Cleanedup -- pickle-dumped : /Users/hrm/Documents/Dropbox/DSrelated/Metis/recipes/bbc_goodfood_recipes_pickles/scrapedInfo_BBCgdfd_815to916recipes.p\n",
      "10: CleanupIngredients&Intructions | GET PrepCookFullTime | RecipeInfo | Ratings | Author etc.\n",
      "Cleanedup -- pickle-dumped : /Users/hrm/Documents/Dropbox/DSrelated/Metis/recipes/bbc_goodfood_recipes_pickles/scrapedInfo_BBCgdfd_916to1018recipes.p\n",
      "11: CleanupIngredients&Intructions | GET PrepCookFullTime | RecipeInfo | Ratings | Author etc.\n",
      "Cleanedup -- pickle-dumped : /Users/hrm/Documents/Dropbox/DSrelated/Metis/recipes/bbc_goodfood_recipes_pickles/scrapedInfo_BBCgdfd_1018to1120recipes.p\n",
      "12: CleanupIngredients&Intructions | GET PrepCookFullTime | RecipeInfo | Ratings | Author etc.\n",
      "Cleanedup -- pickle-dumped : /Users/hrm/Documents/Dropbox/DSrelated/Metis/recipes/bbc_goodfood_recipes_pickles/scrapedInfo_BBCgdfd_1120to1222recipes.p\n",
      "13: CleanupIngredients&Intructions | GET PrepCookFullTime | RecipeInfo | Ratings | Author etc.\n",
      "Cleanedup -- pickle-dumped : /Users/hrm/Documents/Dropbox/DSrelated/Metis/recipes/bbc_goodfood_recipes_pickles/scrapedInfo_BBCgdfd_1222to1324recipes.p\n",
      "14: CleanupIngredients&Intructions | GET PrepCookFullTime | RecipeInfo | Ratings | Author etc.\n",
      "Cleanedup -- pickle-dumped : /Users/hrm/Documents/Dropbox/DSrelated/Metis/recipes/bbc_goodfood_recipes_pickles/scrapedInfo_BBCgdfd_1324to1426recipes.p\n",
      "15: CleanupIngredients&Intructions | GET PrepCookFullTime | RecipeInfo | Ratings | Author etc.\n",
      "Cleanedup -- pickle-dumped : /Users/hrm/Documents/Dropbox/DSrelated/Metis/recipes/bbc_goodfood_recipes_pickles/scrapedInfo_BBCgdfd_1426to1527recipes.p\n",
      "16: CleanupIngredients&Intructions | GET PrepCookFullTime | RecipeInfo | Ratings | Author etc.\n",
      "Cleanedup -- pickle-dumped : /Users/hrm/Documents/Dropbox/DSrelated/Metis/recipes/bbc_goodfood_recipes_pickles/scrapedInfo_BBCgdfd_1527to1629recipes.p\n",
      "17: CleanupIngredients&Intructions | GET PrepCookFullTime | RecipeInfo | Ratings | Author etc.\n",
      "Cleanedup -- pickle-dumped : /Users/hrm/Documents/Dropbox/DSrelated/Metis/recipes/bbc_goodfood_recipes_pickles/scrapedInfo_BBCgdfd_1629to1731recipes.p\n",
      "18: CleanupIngredients&Intructions | GET PrepCookFullTime | RecipeInfo | Ratings | Author etc.\n",
      "Cleanedup -- pickle-dumped : /Users/hrm/Documents/Dropbox/DSrelated/Metis/recipes/bbc_goodfood_recipes_pickles/scrapedInfo_BBCgdfd_1731to1833recipes.p\n",
      "19: CleanupIngredients&Intructions | GET PrepCookFullTime | RecipeInfo | Ratings | Author etc.\n",
      "Cleanedup -- pickle-dumped : /Users/hrm/Documents/Dropbox/DSrelated/Metis/recipes/bbc_goodfood_recipes_pickles/scrapedInfo_BBCgdfd_1833to1935recipes.p\n",
      "20: CleanupIngredients&Intructions | GET PrepCookFullTime | RecipeInfo | Ratings | Author etc.\n",
      "Cleanedup -- pickle-dumped : /Users/hrm/Documents/Dropbox/DSrelated/Metis/recipes/bbc_goodfood_recipes_pickles/scrapedInfo_BBCgdfd_1935to2037recipes.p\n",
      "21: CleanupIngredients&Intructions | GET PrepCookFullTime | RecipeInfo | Ratings | Author etc.\n",
      "Cleanedup -- pickle-dumped : /Users/hrm/Documents/Dropbox/DSrelated/Metis/recipes/bbc_goodfood_recipes_pickles/scrapedInfo_BBCgdfd_2037to2138recipes.p\n",
      "22: CleanupIngredients&Intructions | GET PrepCookFullTime | RecipeInfo | Ratings | Author etc.\n",
      "Cleanedup -- pickle-dumped : /Users/hrm/Documents/Dropbox/DSrelated/Metis/recipes/bbc_goodfood_recipes_pickles/scrapedInfo_BBCgdfd_2138to2240recipes.p\n",
      "23: CleanupIngredients&Intructions | GET PrepCookFullTime | RecipeInfo | Ratings | Author etc.\n",
      "Cleanedup -- pickle-dumped : /Users/hrm/Documents/Dropbox/DSrelated/Metis/recipes/bbc_goodfood_recipes_pickles/scrapedInfo_BBCgdfd_2240to2342recipes.p\n",
      "24: CleanupIngredients&Intructions | GET PrepCookFullTime | RecipeInfo | Ratings | Author etc.\n",
      "Cleanedup -- pickle-dumped : /Users/hrm/Documents/Dropbox/DSrelated/Metis/recipes/bbc_goodfood_recipes_pickles/scrapedInfo_BBCgdfd_2342to2444recipes.p\n",
      "25: CleanupIngredients&Intructions | GET PrepCookFullTime | RecipeInfo | Ratings | Author etc.\n",
      "Cleanedup -- pickle-dumped : /Users/hrm/Documents/Dropbox/DSrelated/Metis/recipes/bbc_goodfood_recipes_pickles/scrapedInfo_BBCgdfd_2444to2546recipes.p\n",
      "26: CleanupIngredients&Intructions | GET PrepCookFullTime | RecipeInfo | Ratings | Author etc.\n",
      "Cleanedup -- pickle-dumped : /Users/hrm/Documents/Dropbox/DSrelated/Metis/recipes/bbc_goodfood_recipes_pickles/scrapedInfo_BBCgdfd_2546to2648recipes.p\n",
      "27: CleanupIngredients&Intructions | GET PrepCookFullTime | RecipeInfo | Ratings | Author etc.\n",
      "Cleanedup -- pickle-dumped : /Users/hrm/Documents/Dropbox/DSrelated/Metis/recipes/bbc_goodfood_recipes_pickles/scrapedInfo_BBCgdfd_2648to2749recipes.p\n",
      "28: CleanupIngredients&Intructions | GET PrepCookFullTime | RecipeInfo | Ratings | Author etc.\n",
      "Cleanedup -- pickle-dumped : /Users/hrm/Documents/Dropbox/DSrelated/Metis/recipes/bbc_goodfood_recipes_pickles/scrapedInfo_BBCgdfd_2749to2851recipes.p\n",
      "29: CleanupIngredients&Intructions | GET PrepCookFullTime | RecipeInfo | Ratings | Author etc.\n",
      "Cleanedup -- pickle-dumped : /Users/hrm/Documents/Dropbox/DSrelated/Metis/recipes/bbc_goodfood_recipes_pickles/scrapedInfo_BBCgdfd_2851to2953recipes.p\n",
      "30: CleanupIngredients&Intructions | GET PrepCookFullTime | RecipeInfo | Ratings | Author etc.\n",
      "Cleanedup -- pickle-dumped : /Users/hrm/Documents/Dropbox/DSrelated/Metis/recipes/bbc_goodfood_recipes_pickles/scrapedInfo_BBCgdfd_2953to3055recipes.p\n",
      "31: CleanupIngredients&Intructions | GET PrepCookFullTime | RecipeInfo | Ratings | Author etc.\n",
      "Cleanedup -- pickle-dumped : /Users/hrm/Documents/Dropbox/DSrelated/Metis/recipes/bbc_goodfood_recipes_pickles/scrapedInfo_BBCgdfd_3055to3157recipes.p\n",
      "32: CleanupIngredients&Intructions | GET PrepCookFullTime | RecipeInfo | Ratings | Author etc.\n",
      "Cleanedup -- pickle-dumped : /Users/hrm/Documents/Dropbox/DSrelated/Metis/recipes/bbc_goodfood_recipes_pickles/scrapedInfo_BBCgdfd_3157to3259recipes.p\n",
      "33: CleanupIngredients&Intructions | GET PrepCookFullTime | RecipeInfo | Ratings | Author etc.\n",
      "Cleanedup -- pickle-dumped : /Users/hrm/Documents/Dropbox/DSrelated/Metis/recipes/bbc_goodfood_recipes_pickles/scrapedInfo_BBCgdfd_3259to3360recipes.p\n",
      "34: CleanupIngredients&Intructions | GET PrepCookFullTime | RecipeInfo | Ratings | Author etc.\n",
      "Cleanedup -- pickle-dumped : /Users/hrm/Documents/Dropbox/DSrelated/Metis/recipes/bbc_goodfood_recipes_pickles/scrapedInfo_BBCgdfd_3360to3462recipes.p\n",
      "35: CleanupIngredients&Intructions | GET PrepCookFullTime | RecipeInfo | Ratings | Author etc.\n",
      "Cleanedup -- pickle-dumped : /Users/hrm/Documents/Dropbox/DSrelated/Metis/recipes/bbc_goodfood_recipes_pickles/scrapedInfo_BBCgdfd_3462to3564recipes.p\n",
      "36: CleanupIngredients&Intructions | GET PrepCookFullTime | RecipeInfo | Ratings | Author etc.\n",
      "Cleanedup -- pickle-dumped : /Users/hrm/Documents/Dropbox/DSrelated/Metis/recipes/bbc_goodfood_recipes_pickles/scrapedInfo_BBCgdfd_3564to3666recipes.p\n",
      "37: CleanupIngredients&Intructions | GET PrepCookFullTime | RecipeInfo | Ratings | Author etc.\n",
      "Cleanedup -- pickle-dumped : /Users/hrm/Documents/Dropbox/DSrelated/Metis/recipes/bbc_goodfood_recipes_pickles/scrapedInfo_BBCgdfd_3666to3768recipes.p\n",
      "38: CleanupIngredients&Intructions | GET PrepCookFullTime | RecipeInfo | Ratings | Author etc.\n",
      "Cleanedup -- pickle-dumped : /Users/hrm/Documents/Dropbox/DSrelated/Metis/recipes/bbc_goodfood_recipes_pickles/scrapedInfo_BBCgdfd_3768to3869recipes.p\n",
      "39: CleanupIngredients&Intructions | GET PrepCookFullTime | RecipeInfo | Ratings | Author etc.\n",
      "Cleanedup -- pickle-dumped : /Users/hrm/Documents/Dropbox/DSrelated/Metis/recipes/bbc_goodfood_recipes_pickles/scrapedInfo_BBCgdfd_3869to3971recipes.p\n",
      "40: CleanupIngredients&Intructions | GET PrepCookFullTime | RecipeInfo | Ratings | Author etc.\n",
      "Cleanedup -- pickle-dumped : /Users/hrm/Documents/Dropbox/DSrelated/Metis/recipes/bbc_goodfood_recipes_pickles/scrapedInfo_BBCgdfd_3971to4073recipes.p\n",
      "41: CleanupIngredients&Intructions | GET PrepCookFullTime | RecipeInfo | Ratings | Author etc.\n",
      "Cleanedup -- pickle-dumped : /Users/hrm/Documents/Dropbox/DSrelated/Metis/recipes/bbc_goodfood_recipes_pickles/scrapedInfo_BBCgdfd_4073to4175recipes.p\n",
      "42: CleanupIngredients&Intructions | GET PrepCookFullTime | RecipeInfo | Ratings | Author etc.\n",
      "Cleanedup -- pickle-dumped : /Users/hrm/Documents/Dropbox/DSrelated/Metis/recipes/bbc_goodfood_recipes_pickles/scrapedInfo_BBCgdfd_4175to4277recipes.p\n",
      "43: CleanupIngredients&Intructions | GET PrepCookFullTime | RecipeInfo | Ratings | Author etc.\n",
      "Cleanedup -- pickle-dumped : /Users/hrm/Documents/Dropbox/DSrelated/Metis/recipes/bbc_goodfood_recipes_pickles/scrapedInfo_BBCgdfd_4277to4379recipes.p\n",
      "44: CleanupIngredients&Intructions | GET PrepCookFullTime | RecipeInfo | Ratings | Author etc.\n",
      "Cleanedup -- pickle-dumped : /Users/hrm/Documents/Dropbox/DSrelated/Metis/recipes/bbc_goodfood_recipes_pickles/scrapedInfo_BBCgdfd_4379to4480recipes.p\n",
      "45: CleanupIngredients&Intructions | GET PrepCookFullTime | RecipeInfo | Ratings | Author etc.\n",
      "Cleanedup -- pickle-dumped : /Users/hrm/Documents/Dropbox/DSrelated/Metis/recipes/bbc_goodfood_recipes_pickles/scrapedInfo_BBCgdfd_4480to4582recipes.p\n",
      "46: CleanupIngredients&Intructions | GET PrepCookFullTime | RecipeInfo | Ratings | Author etc.\n",
      "Cleanedup -- pickle-dumped : /Users/hrm/Documents/Dropbox/DSrelated/Metis/recipes/bbc_goodfood_recipes_pickles/scrapedInfo_BBCgdfd_4582to4684recipes.p\n",
      "47: CleanupIngredients&Intructions | GET PrepCookFullTime | RecipeInfo | Ratings | Author etc.\n",
      "Cleanedup -- pickle-dumped : /Users/hrm/Documents/Dropbox/DSrelated/Metis/recipes/bbc_goodfood_recipes_pickles/scrapedInfo_BBCgdfd_4684to4786recipes.p\n",
      "48: CleanupIngredients&Intructions | GET PrepCookFullTime | RecipeInfo | Ratings | Author etc.\n",
      "Cleanedup -- pickle-dumped : /Users/hrm/Documents/Dropbox/DSrelated/Metis/recipes/bbc_goodfood_recipes_pickles/scrapedInfo_BBCgdfd_4786to4888recipes.p\n",
      "49: CleanupIngredients&Intructions | GET PrepCookFullTime | RecipeInfo | Ratings | Author etc.\n",
      "Cleanedup -- pickle-dumped : /Users/hrm/Documents/Dropbox/DSrelated/Metis/recipes/bbc_goodfood_recipes_pickles/scrapedInfo_BBCgdfd_4888to4990recipes.p\n",
      "50: CleanupIngredients&Intructions | GET PrepCookFullTime | RecipeInfo | Ratings | Author etc.\n",
      "Cleanedup -- pickle-dumped : /Users/hrm/Documents/Dropbox/DSrelated/Metis/recipes/bbc_goodfood_recipes_pickles/scrapedInfo_BBCgdfd_4990to5091recipes.p\n",
      "51: CleanupIngredients&Intructions | GET PrepCookFullTime | RecipeInfo | Ratings | Author etc.\n",
      "Cleanedup -- pickle-dumped : /Users/hrm/Documents/Dropbox/DSrelated/Metis/recipes/bbc_goodfood_recipes_pickles/scrapedInfo_BBCgdfd_5091to5193recipes.p\n",
      "52: CleanupIngredients&Intructions | GET PrepCookFullTime | RecipeInfo | Ratings | Author etc.\n",
      "Cleanedup -- pickle-dumped : /Users/hrm/Documents/Dropbox/DSrelated/Metis/recipes/bbc_goodfood_recipes_pickles/scrapedInfo_BBCgdfd_5193to5295recipes.p\n",
      "53: CleanupIngredients&Intructions | GET PrepCookFullTime | RecipeInfo | Ratings | Author etc.\n",
      "Cleanedup -- pickle-dumped : /Users/hrm/Documents/Dropbox/DSrelated/Metis/recipes/bbc_goodfood_recipes_pickles/scrapedInfo_BBCgdfd_5295to5397recipes.p\n",
      "54: CleanupIngredients&Intructions | GET PrepCookFullTime | RecipeInfo | Ratings | Author etc.\n",
      "Cleanedup -- pickle-dumped : /Users/hrm/Documents/Dropbox/DSrelated/Metis/recipes/bbc_goodfood_recipes_pickles/scrapedInfo_BBCgdfd_5397to5499recipes.p\n",
      "55: CleanupIngredients&Intructions | GET PrepCookFullTime | RecipeInfo | Ratings | Author etc.\n",
      "Cleanedup -- pickle-dumped : /Users/hrm/Documents/Dropbox/DSrelated/Metis/recipes/bbc_goodfood_recipes_pickles/scrapedInfo_BBCgdfd_5499to5601recipes.p\n",
      "56: CleanupIngredients&Intructions | GET PrepCookFullTime | RecipeInfo | Ratings | Author etc.\n",
      "Cleanedup -- pickle-dumped : /Users/hrm/Documents/Dropbox/DSrelated/Metis/recipes/bbc_goodfood_recipes_pickles/scrapedInfo_BBCgdfd_5601to5702recipes.p\n",
      "57: CleanupIngredients&Intructions | GET PrepCookFullTime | RecipeInfo | Ratings | Author etc.\n",
      "Cleanedup -- pickle-dumped : /Users/hrm/Documents/Dropbox/DSrelated/Metis/recipes/bbc_goodfood_recipes_pickles/scrapedInfo_BBCgdfd_5702to5804recipes.p\n",
      "58: CleanupIngredients&Intructions | GET PrepCookFullTime | RecipeInfo | Ratings | Author etc.\n",
      "Cleanedup -- pickle-dumped : /Users/hrm/Documents/Dropbox/DSrelated/Metis/recipes/bbc_goodfood_recipes_pickles/scrapedInfo_BBCgdfd_5804to5906recipes.p\n",
      "59: CleanupIngredients&Intructions | GET PrepCookFullTime | RecipeInfo | Ratings | Author etc.\n",
      "Cleanedup -- pickle-dumped : /Users/hrm/Documents/Dropbox/DSrelated/Metis/recipes/bbc_goodfood_recipes_pickles/scrapedInfo_BBCgdfd_5906to6008recipes.p\n",
      "60: CleanupIngredients&Intructions | GET PrepCookFullTime | RecipeInfo | Ratings | Author etc.\n",
      "Cleanedup -- pickle-dumped : /Users/hrm/Documents/Dropbox/DSrelated/Metis/recipes/bbc_goodfood_recipes_pickles/scrapedInfo_BBCgdfd_6008to6110recipes.p\n",
      "61: CleanupIngredients&Intructions | GET PrepCookFullTime | RecipeInfo | Ratings | Author etc.\n",
      "Cleanedup -- pickle-dumped : /Users/hrm/Documents/Dropbox/DSrelated/Metis/recipes/bbc_goodfood_recipes_pickles/scrapedInfo_BBCgdfd_6110to6212recipes.p\n",
      "62: CleanupIngredients&Intructions | GET PrepCookFullTime | RecipeInfo | Ratings | Author etc.\n",
      "Cleanedup -- pickle-dumped : /Users/hrm/Documents/Dropbox/DSrelated/Metis/recipes/bbc_goodfood_recipes_pickles/scrapedInfo_BBCgdfd_6212to6313recipes.p\n",
      "63: CleanupIngredients&Intructions | GET PrepCookFullTime | RecipeInfo | Ratings | Author etc.\n",
      "Cleanedup -- pickle-dumped : /Users/hrm/Documents/Dropbox/DSrelated/Metis/recipes/bbc_goodfood_recipes_pickles/scrapedInfo_BBCgdfd_6313to6415recipes.p\n",
      "64: CleanupIngredients&Intructions | GET PrepCookFullTime | RecipeInfo | Ratings | Author etc.\n",
      "Cleanedup -- pickle-dumped : /Users/hrm/Documents/Dropbox/DSrelated/Metis/recipes/bbc_goodfood_recipes_pickles/scrapedInfo_BBCgdfd_6415to6517recipes.p\n",
      "65: CleanupIngredients&Intructions | GET PrepCookFullTime | RecipeInfo | Ratings | Author etc.\n",
      "Cleanedup -- pickle-dumped : /Users/hrm/Documents/Dropbox/DSrelated/Metis/recipes/bbc_goodfood_recipes_pickles/scrapedInfo_BBCgdfd_6517to6619recipes.p\n",
      "66: CleanupIngredients&Intructions | GET PrepCookFullTime | RecipeInfo | Ratings | Author etc.\n",
      "Cleanedup -- pickle-dumped : /Users/hrm/Documents/Dropbox/DSrelated/Metis/recipes/bbc_goodfood_recipes_pickles/scrapedInfo_BBCgdfd_6619to6721recipes.p\n",
      "67: CleanupIngredients&Intructions | GET PrepCookFullTime | RecipeInfo | Ratings | Author etc.\n",
      "Cleanedup -- pickle-dumped : /Users/hrm/Documents/Dropbox/DSrelated/Metis/recipes/bbc_goodfood_recipes_pickles/scrapedInfo_BBCgdfd_6721to6822recipes.p\n",
      "68: CleanupIngredients&Intructions | GET PrepCookFullTime | RecipeInfo | Ratings | Author etc.\n",
      "Cleanedup -- pickle-dumped : /Users/hrm/Documents/Dropbox/DSrelated/Metis/recipes/bbc_goodfood_recipes_pickles/scrapedInfo_BBCgdfd_6822to6924recipes.p\n",
      "69: CleanupIngredients&Intructions | GET PrepCookFullTime | RecipeInfo | Ratings | Author etc.\n",
      "Cleanedup -- pickle-dumped : /Users/hrm/Documents/Dropbox/DSrelated/Metis/recipes/bbc_goodfood_recipes_pickles/scrapedInfo_BBCgdfd_6924to7026recipes.p\n",
      "70: CleanupIngredients&Intructions | GET PrepCookFullTime | RecipeInfo | Ratings | Author etc.\n",
      "Cleanedup -- pickle-dumped : /Users/hrm/Documents/Dropbox/DSrelated/Metis/recipes/bbc_goodfood_recipes_pickles/scrapedInfo_BBCgdfd_7026to7128recipes.p\n",
      "71: CleanupIngredients&Intructions | GET PrepCookFullTime | RecipeInfo | Ratings | Author etc.\n",
      "Cleanedup -- pickle-dumped : /Users/hrm/Documents/Dropbox/DSrelated/Metis/recipes/bbc_goodfood_recipes_pickles/scrapedInfo_BBCgdfd_7128to7230recipes.p\n",
      "72: CleanupIngredients&Intructions | GET PrepCookFullTime | RecipeInfo | Ratings | Author etc.\n",
      "Cleanedup -- pickle-dumped : /Users/hrm/Documents/Dropbox/DSrelated/Metis/recipes/bbc_goodfood_recipes_pickles/scrapedInfo_BBCgdfd_7230to7332recipes.p\n",
      "73: CleanupIngredients&Intructions | GET PrepCookFullTime | RecipeInfo | Ratings | Author etc.\n",
      "Cleanedup -- pickle-dumped : /Users/hrm/Documents/Dropbox/DSrelated/Metis/recipes/bbc_goodfood_recipes_pickles/scrapedInfo_BBCgdfd_7332to7433recipes.p\n",
      "74: CleanupIngredients&Intructions | GET PrepCookFullTime | RecipeInfo | Ratings | Author etc.\n",
      "Cleanedup -- pickle-dumped : /Users/hrm/Documents/Dropbox/DSrelated/Metis/recipes/bbc_goodfood_recipes_pickles/scrapedInfo_BBCgdfd_7433to7535recipes.p\n",
      "75: CleanupIngredients&Intructions | GET PrepCookFullTime | RecipeInfo | Ratings | Author etc.\n",
      "Cleanedup -- pickle-dumped : /Users/hrm/Documents/Dropbox/DSrelated/Metis/recipes/bbc_goodfood_recipes_pickles/scrapedInfo_BBCgdfd_7535to7637recipes.p\n",
      "76: CleanupIngredients&Intructions | GET PrepCookFullTime | RecipeInfo | Ratings | Author etc.\n",
      "Cleanedup -- pickle-dumped : /Users/hrm/Documents/Dropbox/DSrelated/Metis/recipes/bbc_goodfood_recipes_pickles/scrapedInfo_BBCgdfd_7637to7739recipes.p\n",
      "77: CleanupIngredients&Intructions | GET PrepCookFullTime | RecipeInfo | Ratings | Author etc.\n",
      "Cleanedup -- pickle-dumped : /Users/hrm/Documents/Dropbox/DSrelated/Metis/recipes/bbc_goodfood_recipes_pickles/scrapedInfo_BBCgdfd_7739to7841recipes.p\n",
      "78: CleanupIngredients&Intructions | GET PrepCookFullTime | RecipeInfo | Ratings | Author etc.\n",
      "Cleanedup -- pickle-dumped : /Users/hrm/Documents/Dropbox/DSrelated/Metis/recipes/bbc_goodfood_recipes_pickles/scrapedInfo_BBCgdfd_7841to7943recipes.p\n",
      "79: CleanupIngredients&Intructions | GET PrepCookFullTime | RecipeInfo | Ratings | Author etc.\n",
      "Cleanedup -- pickle-dumped : /Users/hrm/Documents/Dropbox/DSrelated/Metis/recipes/bbc_goodfood_recipes_pickles/scrapedInfo_BBCgdfd_7943to8044recipes.p\n",
      "80: CleanupIngredients&Intructions | GET PrepCookFullTime | RecipeInfo | Ratings | Author etc.\n",
      "Cleanedup -- pickle-dumped : /Users/hrm/Documents/Dropbox/DSrelated/Metis/recipes/bbc_goodfood_recipes_pickles/scrapedInfo_BBCgdfd_8044to8146recipes.p\n",
      "81: CleanupIngredients&Intructions | GET PrepCookFullTime | RecipeInfo | Ratings | Author etc.\n",
      "Cleanedup -- pickle-dumped : /Users/hrm/Documents/Dropbox/DSrelated/Metis/recipes/bbc_goodfood_recipes_pickles/scrapedInfo_BBCgdfd_8146to8248recipes.p\n",
      "82: CleanupIngredients&Intructions | GET PrepCookFullTime | RecipeInfo | Ratings | Author etc.\n",
      "Cleanedup -- pickle-dumped : /Users/hrm/Documents/Dropbox/DSrelated/Metis/recipes/bbc_goodfood_recipes_pickles/scrapedInfo_BBCgdfd_8248to8350recipes.p\n",
      "83: CleanupIngredients&Intructions | GET PrepCookFullTime | RecipeInfo | Ratings | Author etc.\n",
      "Cleanedup -- pickle-dumped : /Users/hrm/Documents/Dropbox/DSrelated/Metis/recipes/bbc_goodfood_recipes_pickles/scrapedInfo_BBCgdfd_8350to8452recipes.p\n",
      "84: CleanupIngredients&Intructions | GET PrepCookFullTime | RecipeInfo | Ratings | Author etc.\n",
      "Cleanedup -- pickle-dumped : /Users/hrm/Documents/Dropbox/DSrelated/Metis/recipes/bbc_goodfood_recipes_pickles/scrapedInfo_BBCgdfd_8452to8554recipes.p\n",
      "85: CleanupIngredients&Intructions | GET PrepCookFullTime | RecipeInfo | Ratings | Author etc.\n",
      "Cleanedup -- pickle-dumped : /Users/hrm/Documents/Dropbox/DSrelated/Metis/recipes/bbc_goodfood_recipes_pickles/scrapedInfo_BBCgdfd_8554to8655recipes.p\n",
      "86: CleanupIngredients&Intructions | GET PrepCookFullTime | RecipeInfo | Ratings | Author etc.\n",
      "Cleanedup -- pickle-dumped : /Users/hrm/Documents/Dropbox/DSrelated/Metis/recipes/bbc_goodfood_recipes_pickles/scrapedInfo_BBCgdfd_8655to8757recipes.p\n",
      "87: CleanupIngredients&Intructions | GET PrepCookFullTime | RecipeInfo | Ratings | Author etc.\n",
      "Cleanedup -- pickle-dumped : /Users/hrm/Documents/Dropbox/DSrelated/Metis/recipes/bbc_goodfood_recipes_pickles/scrapedInfo_BBCgdfd_8757to8859recipes.p\n",
      "88: CleanupIngredients&Intructions | GET PrepCookFullTime | RecipeInfo | Ratings | Author etc.\n",
      "Cleanedup -- pickle-dumped : /Users/hrm/Documents/Dropbox/DSrelated/Metis/recipes/bbc_goodfood_recipes_pickles/scrapedInfo_BBCgdfd_8859to8961recipes.p\n",
      "89: CleanupIngredients&Intructions | GET PrepCookFullTime | RecipeInfo | Ratings | Author etc.\n",
      "Cleanedup -- pickle-dumped : /Users/hrm/Documents/Dropbox/DSrelated/Metis/recipes/bbc_goodfood_recipes_pickles/scrapedInfo_BBCgdfd_8961to9063recipes.p\n",
      "90: CleanupIngredients&Intructions | GET PrepCookFullTime | RecipeInfo | Ratings | Author etc.\n",
      "Cleanedup -- pickle-dumped : /Users/hrm/Documents/Dropbox/DSrelated/Metis/recipes/bbc_goodfood_recipes_pickles/scrapedInfo_BBCgdfd_9063to9165recipes.p\n",
      "91: CleanupIngredients&Intructions | GET PrepCookFullTime | RecipeInfo | Ratings | Author etc.\n",
      "Cleanedup -- pickle-dumped : /Users/hrm/Documents/Dropbox/DSrelated/Metis/recipes/bbc_goodfood_recipes_pickles/scrapedInfo_BBCgdfd_9165to9266recipes.p\n",
      "92: CleanupIngredients&Intructions | GET PrepCookFullTime | RecipeInfo | Ratings | Author etc.\n",
      "Cleanedup -- pickle-dumped : /Users/hrm/Documents/Dropbox/DSrelated/Metis/recipes/bbc_goodfood_recipes_pickles/scrapedInfo_BBCgdfd_9266to9368recipes.p\n",
      "93: CleanupIngredients&Intructions | GET PrepCookFullTime | RecipeInfo | Ratings | Author etc.\n",
      "Cleanedup -- pickle-dumped : /Users/hrm/Documents/Dropbox/DSrelated/Metis/recipes/bbc_goodfood_recipes_pickles/scrapedInfo_BBCgdfd_9368to9470recipes.p\n",
      "94: CleanupIngredients&Intructions | GET PrepCookFullTime | RecipeInfo | Ratings | Author etc.\n",
      "Cleanedup -- pickle-dumped : /Users/hrm/Documents/Dropbox/DSrelated/Metis/recipes/bbc_goodfood_recipes_pickles/scrapedInfo_BBCgdfd_9470to9572recipes.p\n",
      "95: CleanupIngredients&Intructions | GET PrepCookFullTime | RecipeInfo | Ratings | Author etc.\n",
      "Cleanedup -- pickle-dumped : /Users/hrm/Documents/Dropbox/DSrelated/Metis/recipes/bbc_goodfood_recipes_pickles/scrapedInfo_BBCgdfd_9572to9674recipes.p\n",
      "96: CleanupIngredients&Intructions | GET PrepCookFullTime | RecipeInfo | Ratings | Author etc.\n",
      "Cleanedup -- pickle-dumped : /Users/hrm/Documents/Dropbox/DSrelated/Metis/recipes/bbc_goodfood_recipes_pickles/scrapedInfo_BBCgdfd_9674to9776recipes.p\n",
      "97: CleanupIngredients&Intructions | GET PrepCookFullTime | RecipeInfo | Ratings | Author etc.\n",
      "Cleanedup -- pickle-dumped : /Users/hrm/Documents/Dropbox/DSrelated/Metis/recipes/bbc_goodfood_recipes_pickles/scrapedInfo_BBCgdfd_9776to9877recipes.p\n",
      "98: CleanupIngredients&Intructions | GET PrepCookFullTime | RecipeInfo | Ratings | Author etc.\n",
      "Cleanedup -- pickle-dumped : /Users/hrm/Documents/Dropbox/DSrelated/Metis/recipes/bbc_goodfood_recipes_pickles/scrapedInfo_BBCgdfd_9877to9979recipes.p\n",
      "99: CleanupIngredients&Intructions | GET PrepCookFullTime | RecipeInfo | Ratings | Author etc.\n",
      "Cleanedup -- pickle-dumped : /Users/hrm/Documents/Dropbox/DSrelated/Metis/recipes/bbc_goodfood_recipes_pickles/scrapedInfo_BBCgdfd_9979to10081recipes.p\n"
     ]
    }
   ],
   "source": [
    "# for sI in range(33,100): #range(1,len(scrapeInt)): #80,len(scrapeInt)\n",
    "for sI in range(1,100): #range(1,len(scrapeInt)): #80,len(scrapeInt)\n",
    "    filename = (folderpath +\"scrapedInfo_BBCgdfd_\" + format(scrapeInt[sI-1] ) + \"to\" + format(scrapeInt[sI] ) + \"recipes.p\")\n",
    "    #print(filename)\n",
    "    \n",
    "    print(format(sI) +': CleanupIngredients&Intructions | GET PrepCookFullTime | RecipeInfo | Ratings | Author etc.') #== pickle-load : ' +filename)\n",
    "    \n",
    "    with open(filename, \"rb\") as f:\n",
    "        Recipes = pickle.load(f)\n",
    "    \n",
    "#     print(format(sI) +': CleanupIngredients&Intructions') #== pickle-load : ' +filename)\n",
    "    CleanupRecipeIngredients0(Recipes); #updated\n",
    "    CleanupRecipeIngredients(Recipes); #updated\n",
    "    CleanupRecipeInstructions(Recipes);\n",
    "\n",
    "#     print(format(sI) +': GET PrepCookFullTime | RecipeInfo | Ratings | Author etc.') #== pickle-load : ' +filename)\n",
    "    checkNgetPrepCookFullTimesInfo(Recipes);\n",
    "    \n",
    "    GetRecipeDifficulty(Recipes);\n",
    "    GetRecipeYield(Recipes);\n",
    "    GetExtraRecipeInfo(Recipes);\n",
    "    \n",
    "    GetRecipeRatings(Recipes);\n",
    "    GetAuthorInfo(Recipes);\n",
    "    \n",
    "    GetRecipeImgLink(Recipes);\n",
    "    \n",
    "    with open(filename, \"wb\") as f:\n",
    "        pickle.dump(Recipes, f)\n",
    "    print('Cleanedup -- pickle-dumped : ' +filename)"
   ]
  },
  {
   "cell_type": "code",
   "execution_count": null,
   "metadata": {
    "collapsed": true
   },
   "outputs": [],
   "source": []
  },
  {
   "cell_type": "code",
   "execution_count": null,
   "metadata": {
    "collapsed": false
   },
   "outputs": [],
   "source": [
    "# filename"
   ]
  },
  {
   "cell_type": "code",
   "execution_count": null,
   "metadata": {
    "collapsed": false
   },
   "outputs": [],
   "source": [
    "# with open(filename, \"rb\") as f:\n",
    "#         Recipes = pickle.load(f)"
   ]
  },
  {
   "cell_type": "code",
   "execution_count": null,
   "metadata": {
    "collapsed": true
   },
   "outputs": [],
   "source": []
  }
 ],
 "metadata": {
  "anaconda-cloud": {},
  "kernelspec": {
   "display_name": "Python [default]",
   "language": "python",
   "name": "python3"
  },
  "language_info": {
   "codemirror_mode": {
    "name": "ipython",
    "version": 3
   },
   "file_extension": ".py",
   "mimetype": "text/x-python",
   "name": "python",
   "nbconvert_exporter": "python",
   "pygments_lexer": "ipython3",
   "version": "3.5.2"
  }
 },
 "nbformat": 4,
 "nbformat_minor": 0
}
