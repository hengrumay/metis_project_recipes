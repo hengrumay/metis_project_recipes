{
 "cells": [
  {
   "cell_type": "markdown",
   "metadata": {
    "collapsed": true
   },
   "source": [
    "https://github.com/hhursev/recipe-scraper"
   ]
  },
  {
   "cell_type": "code",
   "execution_count": 143,
   "metadata": {
    "collapsed": false
   },
   "outputs": [
    {
     "name": "stdout",
     "output_type": "stream",
     "text": [
      "/Users/hrm/Documents/Dropbox/DSrelated/Metis/recipes\r\n"
     ]
    }
   ],
   "source": [
    "!pwd"
   ]
  },
  {
   "cell_type": "code",
   "execution_count": 16,
   "metadata": {
    "collapsed": true
   },
   "outputs": [],
   "source": [
    "from __future__ import print_function, division\n",
    "\n",
    "# import matplotlib\n",
    "# % matplotlib inline\n",
    "\n",
    "import pandas as pd\n",
    "import numpy as np\n",
    "# import datetime as dt\n",
    "# import matplotlib.pyplot as plt\n",
    "\n",
    "\n",
    "from bs4 import BeautifulSoup\n",
    "import requests\n",
    "import re\n",
    "import time\n",
    "import sys"
   ]
  },
  {
   "cell_type": "code",
   "execution_count": 171,
   "metadata": {
    "collapsed": false
   },
   "outputs": [],
   "source": [
    "# !cd recipe-scraper-master/recipe_scrapers/ \n",
    "# !cd .. \n",
    "# import sys\n",
    "# sys.path.append( '/Users/hrm/Documents/Dropbox/DSrelated/Metis/recipes/recipe-scraper-master/recipe_scrapers/jamieoliver_v2.py')\n",
    "# import jamieoliver_v2 "
   ]
  },
  {
   "cell_type": "code",
   "execution_count": 174,
   "metadata": {
    "collapsed": false
   },
   "outputs": [],
   "source": [
    "from recipe_scrapers import scrap_me #, url_path_to_dict, SCRAPERS ,_abstract, _utils\n",
    "\n",
    "# # give the url as a string, it can be url from any site listed below\n",
    "# scrap_me = scrap_me('http://allrecipes.com/Recipe/Apple-Cake-Iv/Detail.aspx')\n",
    "\n",
    "# scrap_me.title()\n",
    "# scrap_me.total_time()\n",
    "# scrap_me.ingredients()\n",
    "# scrap_me.instructions()"
   ]
  },
  {
   "cell_type": "code",
   "execution_count": 178,
   "metadata": {
    "collapsed": false
   },
   "outputs": [],
   "source": [
    "# url_path_to_dict('http://www.bbcgoodfood.com/search#path=recipes')\n",
    "# SCRAPERS()"
   ]
  },
  {
   "cell_type": "code",
   "execution_count": 3,
   "metadata": {
    "collapsed": false
   },
   "outputs": [],
   "source": [
    "jo_test= scrap_me('http://www.jamieoliver.com/recipes/pork-recipes/pork-with-apple-herb-stuffing/')"
   ]
  },
  {
   "cell_type": "code",
   "execution_count": 175,
   "metadata": {
    "collapsed": false
   },
   "outputs": [
    {
     "data": {
      "text/plain": [
       "120"
      ]
     },
     "execution_count": 175,
     "metadata": {},
     "output_type": "execute_result"
    }
   ],
   "source": [
    "jo_test.total_time()"
   ]
  },
  {
   "cell_type": "code",
   "execution_count": 7,
   "metadata": {
    "collapsed": false
   },
   "outputs": [
    {
     "data": {
      "text/plain": [
       "'Method Preheat the oven to 200°C/425°F/gas 7. Put the currants in a bowl, cover with warm water and leave to soak. Melt the butter and 1 tablespoon of oil in a saucepan over a medium heat. Peel and finely chop the onion and garlic, then add to the pan and sauté for 8 to 10 minutes, or until softened. Meanwhile, peel core and dice the apples, then remove the crusts from the bread and blitz to breadcrumbs.Add the apple to the pan and allow to soften. Pick the thyme and sage leaves straight into the pan, then drain the currants and add to the pan along with the breadcrumbs. Cook for 3 to 4 minutes, until the bread is golden brown, then remove from the pan and set aside to cool.Place the pork loin on a wooden board. Score the skin with a sharp knife in a criss-cross pattern. Next, butterfly the loin by laying it, skin-side down, on your board and making a slice down one side of the pork, where the skin slightly comes away from flesh. Continue to make long slices all the way down the pork and slowly roll it out until the end, almost like unrolling a carpet. Spread the cooled stuffing mixture over the flesh and season well with sea salt and black pepper. Gently roll the loin back into its original form, ending up with the cut side on the bottom and the skin on top. Tightly tie 3 or 4 pieces of string around the pork to make sure no stuffing leaks out. Season the skin.Place in a roasting tin, add the cider and 200ml of water and pop in the oven for 15 minutes, before turning down to 180°C/350°F/gas 4 and cooking for 1 to 1¼ hours. Trim and wash the leeks, then chop into large chunks. Shred the cabbage and add to the roasting tin along with the leek chunks for the last 45 minutes.'"
      ]
     },
     "execution_count": 7,
     "metadata": {},
     "output_type": "execute_result"
    }
   ],
   "source": [
    "jo_test.instructions()"
   ]
  },
  {
   "cell_type": "code",
   "execution_count": 8,
   "metadata": {
    "collapsed": false
   },
   "outputs": [
    {
     "data": {
      "text/plain": [
       "['60 g currants',\n",
       " '20 g unsalted butter',\n",
       " 'olive oil',\n",
       " '1 onion',\n",
       " '2 cloves of garlic',\n",
       " '2 apples',\n",
       " '100 g stale rustic-style bread',\n",
       " '6 sprigs of fresh thyme',\n",
       " '6 sprigs of fresh sage',\n",
       " '1.5 kg boneless higher-welfare pork loin',\n",
       " '250 ml dry cider',\n",
       " '2 leeks',\n",
       " '½ a Savoy cabbage']"
      ]
     },
     "execution_count": 8,
     "metadata": {},
     "output_type": "execute_result"
    }
   ],
   "source": [
    "jo_test.ingredients()"
   ]
  },
  {
   "cell_type": "code",
   "execution_count": 346,
   "metadata": {
    "collapsed": true
   },
   "outputs": [],
   "source": [
    "# jo_test.soup"
   ]
  },
  {
   "cell_type": "code",
   "execution_count": 21,
   "metadata": {
    "collapsed": false
   },
   "outputs": [
    {
     "data": {
      "text/plain": [
       "'dataLayer = [];\\n       digitalData = {\\n       pageInstanceID: \"74484\",\\n       page:{\\n         pageInfo: {\\n           pageID: \"74484\",\\n           pageName: \"Recipes\",\\n           destinationURL: document.location\\n         },\\n         category : {\\n           primaryCategory: \"Recipes\",\\n           subCategory1: \" Recipes\",\\n           subCategory2: \"Pork with apple & herb stuffing\",\\n           pageType: \" Recipes\"\\n         },\\n         attributes: {\\n           numberServes: \"8\",\\n           timeCooksIn: \"2 hours\",\\n           difficulty: \"Not too tricky\",\\n           caloriesPercentageOfIntake: \"24%\",\\n           fatPercentageOfIntake: \"39%\",\\n           saturatesPercentageOfIntake: \"50%\",\\n           proteinPercentageOfIntake: \"61%\",\\n           carbsPercentageOfIntake: \"10%\",\\n           sugarPercentageOfIntake: \"20%\"\\n         }\\n        }\\n        };\\n\\n        dataLayer.push({\\n          \"digitalData\" : digitalData\\n        });'"
      ]
     },
     "execution_count": 21,
     "metadata": {},
     "output_type": "execute_result"
    }
   ],
   "source": [
    "jo_test.soup.find(text=re.compile('attributes:'))"
   ]
  },
  {
   "cell_type": "code",
   "execution_count": 104,
   "metadata": {
    "collapsed": false
   },
   "outputs": [
    {
     "data": {
      "text/plain": [
       "[<span class=\"detail_desc\">Serves</span>,\n",
       " <span class=\"detail_desc\">Cooks In</span>,\n",
       " <span class=\"detail_desc\">Difficulty</span>]"
      ]
     },
     "execution_count": 104,
     "metadata": {},
     "output_type": "execute_result"
    }
   ],
   "source": [
    "jo_test.soup.find_all('span')[12:15]"
   ]
  },
  {
   "cell_type": "code",
   "execution_count": 106,
   "metadata": {
    "collapsed": false
   },
   "outputs": [
    {
     "data": {
      "text/plain": [
       "' 8                                                                    '"
      ]
     },
     "execution_count": 106,
     "metadata": {},
     "output_type": "execute_result"
    }
   ],
   "source": [
    "jo_test.soup.find_all('span')[12].next.next"
   ]
  },
  {
   "cell_type": "code",
   "execution_count": 134,
   "metadata": {
    "collapsed": false
   },
   "outputs": [
    {
     "data": {
      "text/plain": [
       "'8'"
      ]
     },
     "execution_count": 134,
     "metadata": {},
     "output_type": "execute_result"
    }
   ],
   "source": [
    "jo_test.soup.find_all(text=re.compile('^Serves'))[0].next.strip(' ') #[1].next"
   ]
  },
  {
   "cell_type": "code",
   "execution_count": 132,
   "metadata": {
    "collapsed": false
   },
   "outputs": [
    {
     "data": {
      "text/plain": [
       "'2 hours'"
      ]
     },
     "execution_count": 132,
     "metadata": {},
     "output_type": "execute_result"
    }
   ],
   "source": [
    "jo_test.soup.find_all(text=re.compile('Cooks In'))[0].next.strip(' ')"
   ]
  },
  {
   "cell_type": "code",
   "execution_count": 136,
   "metadata": {
    "collapsed": false
   },
   "outputs": [
    {
     "data": {
      "text/plain": [
       "'Not too tricky'"
      ]
     },
     "execution_count": 136,
     "metadata": {},
     "output_type": "execute_result"
    }
   ],
   "source": [
    "jo_test.soup.find_all(text=re.compile('Difficulty'))[0].next.strip(' ')"
   ]
  },
  {
   "cell_type": "code",
   "execution_count": 168,
   "metadata": {
    "collapsed": false
   },
   "outputs": [
    {
     "data": {
      "text/plain": [
       "'\\nCooks In2 hours                                '"
      ]
     },
     "execution_count": 168,
     "metadata": {},
     "output_type": "execute_result"
    }
   ],
   "source": [
    "# jo_test.soup.find('div', {'class': 'time'}).text"
   ]
  },
  {
   "cell_type": "code",
   "execution_count": null,
   "metadata": {
    "collapsed": true
   },
   "outputs": [],
   "source": []
  },
  {
   "cell_type": "code",
   "execution_count": null,
   "metadata": {
    "collapsed": false
   },
   "outputs": [],
   "source": []
  },
  {
   "cell_type": "code",
   "execution_count": 215,
   "metadata": {
    "collapsed": true
   },
   "outputs": [],
   "source": [
    "bbcgf_test= scrap_me('http://www.bbcgoodfood.com/recipes/1364/spicy-root-and-lentil-casserole')"
   ]
  },
  {
   "cell_type": "code",
   "execution_count": 216,
   "metadata": {
    "collapsed": false
   },
   "outputs": [
    {
     "data": {
      "text/plain": [
       "'Heat the oil in a large pan and cook the onion and garlic over a medium heat for 3-4 minutes until softened, stirring occasionally. Tip in the potatoes, carrots and parsnips, turn up the heat and cook for 6-7 minutes, stirring, until the vegetables are golden.\\nStir in the curry paste or powder, pour in the stock and then bring to the boil. Reduce the heat, add the lentils, cover and simmer for 15-20 minutes until the lentils and vegetables are tender and the sauce has thickened.\\nStir in most of the coriander, season and heat for a minute or so.Top with yogurt and the rest of the coriander. Serve with naan bread.'"
      ]
     },
     "execution_count": 216,
     "metadata": {},
     "output_type": "execute_result"
    }
   ],
   "source": [
    "bbcgf_test.instructions()"
   ]
  },
  {
   "cell_type": "code",
   "execution_count": 387,
   "metadata": {
    "collapsed": false,
    "scrolled": false
   },
   "outputs": [],
   "source": [
    "bbcgf_test.soup.find_all(text=re.compile('^Prep'))[0].next.next.text#.replace()\n",
    "bbcgf_test.soup.find_all(text=re.compile('^By'))[0].next.next.next\n",
    "test = bbcgf_test.soup.find(\"div\",{\"class\":\"recipe-header__chef recipe-header__chef--first\"}).find_all(\"span\",{\"class\":\"author\"})\n",
    "# test.find['href']"
   ]
  },
  {
   "cell_type": "code",
   "execution_count": 225,
   "metadata": {
    "collapsed": false
   },
   "outputs": [],
   "source": [
    "# bbcgf_test.soup.find(\"ul\",{\"class\":\"additional-info\"}).find_all(\"li\",{\"class\":\"freezable first\"})[0]\n",
    "# bbcgf_test"
   ]
  },
  {
   "cell_type": "code",
   "execution_count": 308,
   "metadata": {
    "collapsed": false
   },
   "outputs": [],
   "source": [
    "R_links = pd.read_csv('BBCgoodfood_recipesURL.csv', index_col=[0] )\n",
    "# R_links"
   ]
  },
  {
   "cell_type": "code",
   "execution_count": 253,
   "metadata": {
    "collapsed": false
   },
   "outputs": [
    {
     "name": "stdout",
     "output_type": "stream",
     "text": [
      "/recipes/4942/lemon-drizzle-cake\n",
      "/recipes/3228/chilli-con-carne\n",
      "/recipes/3092/ultimate-chocolate-cake\n",
      "/recipes/1223/bestever-brownies\n",
      "/recipes/3229/yummy-scrummy-carrot-cake\n",
      "/recipes/1167651/chicken-and-chorizo-jambalaya\n",
      "/recipes/2089/spiced-carrot-and-lentil-soup\n",
      "/recipes/1364/spicy-root-and-lentil-casserole\n",
      "/recipes/1521/summerinwinter-chicken\n",
      "/recipes/4622/classic-scones-with-jam-and-clotted-cream\n"
     ]
    },
    {
     "data": {
      "text/plain": [
       "0                     /recipes/4942/lemon-drizzle-cake\n",
       "1                       /recipes/3228/chilli-con-carne\n",
       "2                /recipes/3092/ultimate-chocolate-cake\n",
       "3                      /recipes/1223/bestever-brownies\n",
       "4              /recipes/3229/yummy-scrummy-carrot-cake\n",
       "5       /recipes/1167651/chicken-and-chorizo-jambalaya\n",
       "6          /recipes/2089/spiced-carrot-and-lentil-soup\n",
       "7        /recipes/1364/spicy-root-and-lentil-casserole\n",
       "8                 /recipes/1521/summerinwinter-chicken\n",
       "9    /recipes/4622/classic-scones-with-jam-and-clot...\n",
       "Name: URL, dtype: object"
      ]
     },
     "execution_count": 253,
     "metadata": {},
     "output_type": "execute_result"
    }
   ],
   "source": [
    "[print(r) for r in R_links.URL[:10] ]\n",
    "R_links.URL[:10]"
   ]
  },
  {
   "cell_type": "code",
   "execution_count": 260,
   "metadata": {
    "collapsed": false
   },
   "outputs": [],
   "source": [
    "R_host = 'http://www.bbcgoodfood.com/'"
   ]
  },
  {
   "cell_type": "code",
   "execution_count": 349,
   "metadata": {
    "collapsed": false
   },
   "outputs": [],
   "source": [
    "scrapedInfo =[]\n",
    "for n in R_links.URL[:100]:\n",
    "#     print(n)\n",
    "    \n",
    "    tmp = scrap_me(R_host+n)\n",
    "    scrapedInfo.append(tmp)\n",
    "    \n",
    "    "
   ]
  },
  {
   "cell_type": "code",
   "execution_count": 353,
   "metadata": {
    "collapsed": false
   },
   "outputs": [
    {
     "data": {
      "text/plain": [
       "100"
      ]
     },
     "execution_count": 353,
     "metadata": {},
     "output_type": "execute_result"
    }
   ],
   "source": [
    "len(scrapedInfo)\n",
    "# scrapedInfo"
   ]
  },
  {
   "cell_type": "code",
   "execution_count": 354,
   "metadata": {
    "collapsed": true
   },
   "outputs": [],
   "source": [
    "import pickle\n",
    "# pickle.dump( variable2save, open( \"save.p\", \"wb\" ) )\n",
    "# pickleDATA = pickle.load( open( \"save.p\", \"rb\" ) )\n",
    "\n",
    "pickle.dump(scrapedInfo, open( \"scrapedInfo_BBCgdfd_100recipes.p\", \"wb\" ) )"
   ]
  },
  {
   "cell_type": "code",
   "execution_count": 389,
   "metadata": {
    "collapsed": false
   },
   "outputs": [],
   "source": [
    "scrapedInfo = pickle.load(open( \"scrapedInfo_BBCgdfd_100recipes.p\", \"rb\" ) )"
   ]
  },
  {
   "cell_type": "code",
   "execution_count": null,
   "metadata": {
    "collapsed": true
   },
   "outputs": [],
   "source": []
  },
  {
   "cell_type": "code",
   "execution_count": 281,
   "metadata": {
    "collapsed": false
   },
   "outputs": [
    {
     "data": {
      "text/plain": [
       "'Lemon drizzle cake'"
      ]
     },
     "execution_count": 281,
     "metadata": {},
     "output_type": "execute_result"
    }
   ],
   "source": [
    "scrapedInfo[0].title()"
   ]
  },
  {
   "cell_type": "code",
   "execution_count": 639,
   "metadata": {
    "collapsed": false
   },
   "outputs": [
    {
     "data": {
      "text/plain": [
       "'Preheat the oven to fan 160C/conventional 180C/gas 4. Butter and line an 18cm round, 7cm deep cake tin with greaseproof or parchment paper. Put the flour, bicarbonate of soda and all the spices into a large mixing bowl. Add the butter and rub it into the flour with your fingertips until the mixture resembles fine breadcrumbs. Put the sugar, treacle, syrup and milk in a medium saucepan and heat, gently stirring until the sugar has dissolved. Turn up the heat and bring the mixture to just below boiling point. Add the stem ginger to the flour mixture, then pour in the treacle mixture, stirring as you go with a wooden spoon. Break in the egg and beat until all the mixture is combined and it resembles a thick pancake batter. Pour this into prepared tin and bake for 50 minutes-1 hour, until a skewer pushed into the centre of the cake comes out fairly clean. Leave to cool completely in tin before turning cake out. (To freeze: wrap in greaseproof paper, then in cling film. Freeze for up to 1 month.) To make the icing, mix together icing sugar and lemon zest, then gradually add lemon juice until you have a smooth, slightly runny icing, adding more juice, if needed. Drizzle icing in a zig-zag pattern over surface of cake, turn cake around and drizzle again to create the cross-hatched finish (see below). Cake keeps for up to 2 weeks stored in an airtight container.'"
      ]
     },
     "execution_count": 639,
     "metadata": {},
     "output_type": "execute_result"
    }
   ],
   "source": [
    "scrapedInfo[44].instructions().replace('\\n',' ')#.replace('C/','degC/').replace('^C','degC')"
   ]
  },
  {
   "cell_type": "code",
   "execution_count": null,
   "metadata": {
    "collapsed": true
   },
   "outputs": [],
   "source": [
    "### scrapedInfo[0].total_time()"
   ]
  },
  {
   "cell_type": "code",
   "execution_count": null,
   "metadata": {
    "collapsed": false
   },
   "outputs": [],
   "source": []
  },
  {
   "cell_type": "code",
   "execution_count": 265,
   "metadata": {
    "collapsed": false
   },
   "outputs": [
    {
     "data": {
      "text/plain": [
       "['225g unsalted butter, softened',\n",
       " '225g caster sugar',\n",
       " '4 egg Egg eggThe ultimate convenience food, eggs are powerhouses of nutrition, packed with protein and a…',\n",
       " 'finely grated zest 1 lemon Lemon le-monOval in shape, with a pronouced bulge on one end, lemons are one of the most versatile fruits…',\n",
       " '225g self-raising flour',\n",
       " 'juice 1½ lemons Lemon le-monOval in shape, with a pronouced bulge on one end, lemons are one of the most versatile fruits…',\n",
       " '85g caster sugar']"
      ]
     },
     "execution_count": 265,
     "metadata": {},
     "output_type": "execute_result"
    }
   ],
   "source": [
    "scrapedInfo[0].ingredients()"
   ]
  },
  {
   "cell_type": "code",
   "execution_count": 647,
   "metadata": {
    "collapsed": false
   },
   "outputs": [],
   "source": [
    "# ingred_temp = scrapedInfo[0].soup.find('div', {'class': \"ingredients-list\"}).find_all('li',{'class':'ingredients-list__item'})\n",
    "# [i.text for i in ingred_temp]\n",
    "\n",
    "# ['225g unsalted butter, softened',\n",
    "#  '225g caster sugar',\n",
    "#  '4 egg Egg eggThe ultimate convenience food, eggs are powerhouses of nutrition, packed with protein and a… ',\n",
    "#  'finely grated zest 1 lemon Lemon le-monOval in shape, with a pronouced bulge on one end, lemons are one of the most versatile fruits… ',\n",
    "#  '225g self-raising flour',\n",
    "#  'juice 1½ lemons Lemon le-monOval in shape, with a pronouced bulge on one end, lemons are one of the most versatile fruits… ',\n",
    "#  '85g caster sugar']"
   ]
  },
  {
   "cell_type": "code",
   "execution_count": 641,
   "metadata": {
    "collapsed": false
   },
   "outputs": [],
   "source": [
    "# ingred_temp[2].text"
   ]
  },
  {
   "cell_type": "code",
   "execution_count": 336,
   "metadata": {
    "collapsed": true
   },
   "outputs": [],
   "source": [
    "def getindices(s):\n",
    "    return [i for i, c in enumerate(s) if c.isupper()]"
   ]
  },
  {
   "cell_type": "code",
   "execution_count": 644,
   "metadata": {
    "collapsed": false
   },
   "outputs": [],
   "source": [
    "# getindices(ingred_temp[2].text)\n",
    "# [6, 13]\n",
    "# ingred_temp[2].text[:6]\n",
    "# '4 egg '\n",
    "# ingred_temp[3].text\n",
    "# 'finely grated zest 1 lemon Lemon le-monOval in shape, with a pronouced bulge on one end, lemons are one of the most versatile fruits… '\n"
   ]
  },
  {
   "cell_type": "code",
   "execution_count": null,
   "metadata": {
    "collapsed": false
   },
   "outputs": [],
   "source": []
  },
  {
   "cell_type": "code",
   "execution_count": 645,
   "metadata": {
    "collapsed": false
   },
   "outputs": [],
   "source": [
    "# getindices(ingred_temp[3].text)\n",
    "# [27, 39]\n",
    "# ingred_temp[3].text[:27]\n",
    "# ingred_temp[3].text[:27]"
   ]
  },
  {
   "cell_type": "code",
   "execution_count": null,
   "metadata": {
    "collapsed": false
   },
   "outputs": [],
   "source": []
  },
  {
   "cell_type": "code",
   "execution_count": 643,
   "metadata": {
    "collapsed": false
   },
   "outputs": [],
   "source": [
    "# ingred_temp[5].text\n",
    "# 'juice 1½ lemons Lemon le-monOval in shape, with a pronouced bulge on one end, lemons are one of the most versatile fruits… \n",
    "# getindices(ingred_temp[5].text)\n",
    "# [16, 28]\n",
    "# ingred_temp[5].text[:16]\n",
    "# 'juice 1½ lemons '"
   ]
  },
  {
   "cell_type": "code",
   "execution_count": null,
   "metadata": {
    "collapsed": false
   },
   "outputs": [],
   "source": []
  },
  {
   "cell_type": "code",
   "execution_count": 642,
   "metadata": {
    "collapsed": false
   },
   "outputs": [],
   "source": [
    "# scrapedInfo[0].test\n",
    "# ['4 tbsp vegetable oil',\n",
    "#  '25g butter ',\n",
    "#  '4 onion, roughly chopped ',\n",
    "#  '6 tbsp chicken tikka masala paste (use shop-bought or make your own - see recipe, below)',\n",
    "#  '2 red pepper, deseeded and cut into chunks',\n",
    "#  '8 boneless, skinless chicken breasts, cut into 2½ cm cubes',\n",
    "#  '2 x 400g cans chopped tomatoes ',\n",
    "#  '4 tbsp tomato purée',\n",
    "#  '2-3 tbsp mango chutney',\n",
    "#  '150ml double cream',\n",
    "#  '150ml natural yogurt ',\n",
    "#  'chopped coriander leaves, to serve']"
   ]
  },
  {
   "cell_type": "code",
   "execution_count": 391,
   "metadata": {
    "collapsed": false
   },
   "outputs": [],
   "source": [
    "# ingred_tmp = scrapedInfo[0].soup.find('div', {'class': \"ingredients-list\"}).find_all('li',{'class':'ingredients-list__item'})\n",
    "\n",
    "\n",
    "def getindices(s):\n",
    "    return [i for i, c in enumerate(s) if c.isupper()]\n",
    "\n",
    "cnt=0\n",
    "for rcp in scrapedInfo:\n",
    "    rcp_ingd = rcp.ingredients()\n",
    "    tmp=[]\n",
    "#     print(rcp_ingd)\n",
    "    for ingd in rcp_ingd:\n",
    "#         print(ingd)\n",
    "        idx = getindices(ingd)\n",
    "#         print(idx)\n",
    "        if idx==[]:\n",
    "#             print(ingd)\n",
    "            tmp.append(ingd)\n",
    "        else:\n",
    "#             print(ingd[:idx[0]])\n",
    "            tmp.append(ingd[:idx[0]])\n",
    "#         print(tmp)\n",
    "    scrapedInfo[cnt].ingredients2=tmp\n",
    "    cnt +=1\n",
    "    "
   ]
  },
  {
   "cell_type": "code",
   "execution_count": 392,
   "metadata": {
    "collapsed": false
   },
   "outputs": [
    {
     "data": {
      "text/plain": [
       "['225g unsalted butter, softened',\n",
       " '225g caster sugar',\n",
       " '4 egg Egg eggThe ultimate convenience food, eggs are powerhouses of nutrition, packed with protein and a…',\n",
       " 'finely grated zest 1 lemon Lemon le-monOval in shape, with a pronouced bulge on one end, lemons are one of the most versatile fruits…',\n",
       " '225g self-raising flour',\n",
       " 'juice 1½ lemons Lemon le-monOval in shape, with a pronouced bulge on one end, lemons are one of the most versatile fruits…',\n",
       " '85g caster sugar']"
      ]
     },
     "execution_count": 392,
     "metadata": {},
     "output_type": "execute_result"
    }
   ],
   "source": [
    "scrapedInfo[0].ingredients()"
   ]
  },
  {
   "cell_type": "code",
   "execution_count": 394,
   "metadata": {
    "collapsed": false
   },
   "outputs": [
    {
     "data": {
      "text/plain": [
       "['225g unsalted butter, softened',\n",
       " '225g caster sugar',\n",
       " '4 egg ',\n",
       " 'finely grated zest 1 lemon ',\n",
       " '225g self-raising flour',\n",
       " 'juice 1½ lemons ',\n",
       " '85g caster sugar']"
      ]
     },
     "execution_count": 394,
     "metadata": {},
     "output_type": "execute_result"
    }
   ],
   "source": [
    "scrapedInfo[0].ingredients2"
   ]
  },
  {
   "cell_type": "code",
   "execution_count": 396,
   "metadata": {
    "collapsed": false
   },
   "outputs": [
    {
     "data": {
      "text/plain": [
       "['4 tbsp vegetable oil',\n",
       " '25g butter Butter butt-errButter is made when lactic-acid producing bacteria are added to cream and churned to make an…',\n",
       " '4 onion, roughly chopped Onion un-yunOnions are endlessly versatile and an essential ingredient in countless recipes. Native to Asia…',\n",
       " '6 tbsp chicken tikka masala paste (use shop-bought or make your own - see recipe, below)',\n",
       " '2 red pepper, deseeded and cut into chunks',\n",
       " '8 boneless, skinless chicken breasts, cut into 2½ cm cubes',\n",
       " '2 x 400g cans chopped tomatoes Tomato toe-mart-ohA member of the nightshade family (along with aubergines, peppers and chillies), tomatoes are in…',\n",
       " '4 tbsp tomato purée',\n",
       " '2-3 tbsp mango chutney',\n",
       " '150ml double cream',\n",
       " '150ml natural yogurt Yogurt yog-ertYogurt is made by adding a number of types of harmless bacteria to milk, causing it to ferment.…',\n",
       " 'chopped coriander leaves, to serve']"
      ]
     },
     "execution_count": 396,
     "metadata": {},
     "output_type": "execute_result"
    }
   ],
   "source": [
    "scrapedInfo[99].ingredients()"
   ]
  },
  {
   "cell_type": "code",
   "execution_count": 397,
   "metadata": {
    "collapsed": false
   },
   "outputs": [
    {
     "data": {
      "text/plain": [
       "['4 tbsp vegetable oil',\n",
       " '25g butter ',\n",
       " '4 onion, roughly chopped ',\n",
       " '6 tbsp chicken tikka masala paste (use shop-bought or make your own - see recipe, below)',\n",
       " '2 red pepper, deseeded and cut into chunks',\n",
       " '8 boneless, skinless chicken breasts, cut into 2½ cm cubes',\n",
       " '2 x 400g cans chopped tomatoes ',\n",
       " '4 tbsp tomato purée',\n",
       " '2-3 tbsp mango chutney',\n",
       " '150ml double cream',\n",
       " '150ml natural yogurt ',\n",
       " 'chopped coriander leaves, to serve']"
      ]
     },
     "execution_count": 397,
     "metadata": {},
     "output_type": "execute_result"
    }
   ],
   "source": [
    "scrapedInfo[99].ingredients2"
   ]
  },
  {
   "cell_type": "code",
   "execution_count": 406,
   "metadata": {
    "collapsed": false
   },
   "outputs": [
    {
     "data": {
      "text/plain": [
       "'Lemon drizzle cake'"
      ]
     },
     "execution_count": 406,
     "metadata": {},
     "output_type": "execute_result"
    }
   ],
   "source": [
    "scrapedInfo[0].title()"
   ]
  },
  {
   "cell_type": "code",
   "execution_count": 404,
   "metadata": {
    "collapsed": false
   },
   "outputs": [
    {
     "data": {
      "text/plain": [
       "0"
      ]
     },
     "execution_count": 404,
     "metadata": {},
     "output_type": "execute_result"
    }
   ],
   "source": [
    "scrapedInfo[0].total_time()\n"
   ]
  },
  {
   "cell_type": "code",
   "execution_count": 436,
   "metadata": {
    "collapsed": false
   },
   "outputs": [
    {
     "data": {
      "text/plain": [
       "'Classic Victoria sandwich'"
      ]
     },
     "execution_count": 436,
     "metadata": {},
     "output_type": "execute_result"
    }
   ],
   "source": [
    "scrapedInfo[15].title()  #recipe-details__cooking-time-full"
   ]
  },
  {
   "cell_type": "code",
   "execution_count": 421,
   "metadata": {
    "collapsed": false
   },
   "outputs": [],
   "source": [
    "# scrapedInfo[0].soup.find('span', {'class': 'recipe-details__cooking-time-prep'}).text.strip(' ')\n",
    "# 'Prep: 15 mins'"
   ]
  },
  {
   "cell_type": "code",
   "execution_count": 446,
   "metadata": {
    "collapsed": false
   },
   "outputs": [
    {
     "data": {
      "text/plain": [
       "(True, True, False)"
      ]
     },
     "execution_count": 446,
     "metadata": {},
     "output_type": "execute_result"
    }
   ],
   "source": [
    "\n",
    "prep, cook, full = (scrapedInfo[15].soup.find('span', {'class': 'recipe-details__cooking-time-prep'}) == None,\n",
    "scrapedInfo[15].soup.find('span', {'class': 'recipe-details__cooking-time-cook'}) == None,\n",
    "scrapedInfo[15].soup.find('span', {'class': 'recipe-details__cooking-time-full'}) == None)\n",
    "\n",
    "prep, cook, full"
   ]
  },
  {
   "cell_type": "code",
   "execution_count": null,
   "metadata": {
    "collapsed": true
   },
   "outputs": [],
   "source": []
  },
  {
   "cell_type": "code",
   "execution_count": null,
   "metadata": {
    "collapsed": true
   },
   "outputs": [],
   "source": []
  },
  {
   "cell_type": "code",
   "execution_count": null,
   "metadata": {
    "collapsed": false
   },
   "outputs": [],
   "source": [
    "\n"
   ]
  },
  {
   "cell_type": "code",
   "execution_count": 653,
   "metadata": {
    "collapsed": false
   },
   "outputs": [
    {
     "name": "stdout",
     "output_type": "stream",
     "text": [
      "15\n"
     ]
    }
   ],
   "source": [
    "if prep==True:\n",
    "    \n",
    "    prep_hr = scrapedInfo[0].soup.find('span', {'class': 'recipe-details__cooking-time-prep'}).find_all('span',{'class':'hrs'})\n",
    "    if prep_hr==[]:\n",
    "        prep_hr_val = np.nan\n",
    "        pass\n",
    "        #print('none')\n",
    "    else:\n",
    "        prep_hr_val = int(prep_min[0].text.replace(' hr',''))\n",
    "        #print(prep_hr[0].text)\n",
    "        #print(prep_hr_val)\n",
    "\n",
    "\n",
    "    prep_min = scrapedInfo[0].soup.find('span', {'class': 'recipe-details__cooking-time-prep'}).find_all('span',{'class':'mins'})\n",
    "    if prep_min==[]:\n",
    "        prep_min_val = np.nan\n",
    "        pass\n",
    "        #print('none')\n",
    "    else:\n",
    "        prep_min_val = int(prep_min[0].text.replace(' mins',''))\n",
    "        #print(prep_min[0].text)\n",
    "        print(prep_min_val)\n",
    " \n",
    "    return preptime = prep_min_val + prep_hr_val*60"
   ]
  },
  {
   "cell_type": "code",
   "execution_count": null,
   "metadata": {
    "collapsed": false
   },
   "outputs": [],
   "source": []
  },
  {
   "cell_type": "code",
   "execution_count": 472,
   "metadata": {
    "collapsed": false
   },
   "outputs": [
    {
     "data": {
      "text/plain": [
       "15"
      ]
     },
     "execution_count": 472,
     "metadata": {},
     "output_type": "execute_result"
    }
   ],
   "source": [
    "int(prep_min[0].text.replace(' mins',''))"
   ]
  },
  {
   "cell_type": "code",
   "execution_count": 480,
   "metadata": {
    "collapsed": false
   },
   "outputs": [
    {
     "name": "stdout",
     "output_type": "stream",
     "text": [
      "none\n",
      "45\n"
     ]
    }
   ],
   "source": [
    "def checkNgetCookingTime():\n",
    "\n",
    "if cook==True:\n",
    "    \n",
    "    cook_hr = scrapedInfo[0].soup.find('span', {'class': 'recipe-details__cooking-time-cook'}).find_all('span',{'class':'hrs'})\n",
    "    if cook_hr==[]:\n",
    "        pass\n",
    "        print('none')\n",
    "    else:\n",
    "        cook_hr_val = int(cook_hr[0].text.replace(' hr',''))\n",
    "        #print(cook_hr[0].text)\n",
    "        print(cook_hr_val)\n",
    "\n",
    "\n",
    "    cook_min = scrapedInfo[0].soup.find('span', {'class': 'recipe-details__cooking-time-cook'}).find_all('span',{'class':'mins'})\n",
    "    if cook_min==[]:\n",
    "        pass\n",
    "        print('none')\n",
    "    else:\n",
    "        cook_min_val = int(cook_min[0].text.replace(' mins',''))\n",
    "        #print(cook_min[0].text)\n",
    "        print(cook_min_val)\n",
    "    \n",
    "    return cooktime = cook_min + cook_hr\n"
   ]
  },
  {
   "cell_type": "code",
   "execution_count": null,
   "metadata": {
    "collapsed": true
   },
   "outputs": [],
   "source": []
  },
  {
   "cell_type": "code",
   "execution_count": 485,
   "metadata": {
    "collapsed": false
   },
   "outputs": [],
   "source": [
    "if full==True:\n",
    "    full_cookInfo = scrapedInfo[15].soup.find('span', {'class': 'recipe-details__cooking-time-full'}).text\n",
    "    print(full_cookInfo)\n",
    "    "
   ]
  },
  {
   "cell_type": "code",
   "execution_count": null,
   "metadata": {
    "collapsed": true
   },
   "outputs": [],
   "source": []
  },
  {
   "cell_type": "code",
   "execution_count": null,
   "metadata": {
    "collapsed": true
   },
   "outputs": [],
   "source": []
  },
  {
   "cell_type": "code",
   "execution_count": null,
   "metadata": {
    "collapsed": true
   },
   "outputs": [],
   "source": []
  },
  {
   "cell_type": "code",
   "execution_count": 500,
   "metadata": {
    "collapsed": false
   },
   "outputs": [
    {
     "data": {
      "text/plain": [
       "'Easy'"
      ]
     },
     "execution_count": 500,
     "metadata": {},
     "output_type": "execute_result"
    }
   ],
   "source": [
    "\n",
    "prepDifficulty = scrapedInfo[0].soup.find('span', {'class': 'recipe-details__text'}).text.strip(' ')\n",
    "prepDifficulty"
   ]
  },
  {
   "cell_type": "code",
   "execution_count": 515,
   "metadata": {
    "collapsed": false
   },
   "outputs": [
    {
     "data": {
      "text/plain": [
       "'Cuts into 10 slices'"
      ]
     },
     "execution_count": 515,
     "metadata": {},
     "output_type": "execute_result"
    }
   ],
   "source": [
    "recpYield = scrapedInfo[0].soup.find('span', {'itemprop': 'recipeYield'}).text.strip(' ')\n",
    "recpYield"
   ]
  },
  {
   "cell_type": "code",
   "execution_count": null,
   "metadata": {
    "collapsed": true
   },
   "outputs": [],
   "source": []
  },
  {
   "cell_type": "code",
   "execution_count": null,
   "metadata": {
    "collapsed": true
   },
   "outputs": [],
   "source": []
  },
  {
   "cell_type": "code",
   "execution_count": 590,
   "metadata": {
    "collapsed": false
   },
   "outputs": [
    {
     "data": {
      "text/plain": [
       "<meta content=\"4.68952\" itemprop=\"ratingValue\"/>"
      ]
     },
     "execution_count": 590,
     "metadata": {},
     "output_type": "execute_result"
    }
   ],
   "source": [
    "scrapedInfo[0].soup.find('meta', {'itemprop': 'ratingValue'})"
   ]
  },
  {
   "cell_type": "code",
   "execution_count": 543,
   "metadata": {
    "collapsed": false
   },
   "outputs": [
    {
     "name": "stdout",
     "output_type": "stream",
     "text": [
      "[1455, 4.68952]\n"
     ]
    }
   ],
   "source": [
    "\n",
    "Nraters = int(scrapedInfo[0].soup.find(\n",
    "        'div', {'class': 'rate-info'}).text.strip(' ').replace('(','').replace(' ratings)','') ) \n",
    "if Nraters!=0:\n",
    "    AggRating = float(scrapedInfo[0].soup.find('meta', {'itemprop': 'ratingValue'})['content'])\n",
    "    RatersNRatings = [Nraters, AggRating]\n",
    "    print(RatersNRatings)\n",
    "else:\n",
    "    RatersNRatings = [Nraters, np.nan]"
   ]
  },
  {
   "cell_type": "code",
   "execution_count": 627,
   "metadata": {
    "collapsed": false
   },
   "outputs": [
    {
     "name": "stdout",
     "output_type": "stream",
     "text": [
      "Mary Cadogan\n"
     ]
    }
   ],
   "source": [
    "authorInfoExist = scrapedInfo[90].soup.find('div',{'class':'recipe-header__chef recipe-header__chef--second'})!=None\n",
    "if authorInfoExist:\n",
    "    authorInfo = scrapedInfo[90].soup.find('div',{'class':'recipe-header__chef recipe-header__chef--second'}).find(\n",
    "    'span',{'class':'author'}).text\n",
    "    print(authorInfo)\n",
    "else:\n",
    "    authorInfo = np.nan\n",
    "    print('none')"
   ]
  },
  {
   "cell_type": "code",
   "execution_count": null,
   "metadata": {
    "collapsed": true
   },
   "outputs": [],
   "source": []
  },
  {
   "cell_type": "code",
   "execution_count": 623,
   "metadata": {
    "collapsed": false
   },
   "outputs": [
    {
     "data": {
      "text/plain": [
       "['freezable', 'vegetarian']"
      ]
     },
     "execution_count": 623,
     "metadata": {},
     "output_type": "execute_result"
    }
   ],
   "source": [
    "extraDiscriptors = [i['class'][1].replace('font-icon-','').replace('-extra-small','') for i in scrapedInfo[10].soup.find('div',{'class':'recipe-header__more-info-inner'}).find_all(\n",
    "    {'i':'class'})]\n",
    "extraDiscriptors"
   ]
  },
  {
   "cell_type": "code",
   "execution_count": null,
   "metadata": {
    "collapsed": true
   },
   "outputs": [],
   "source": []
  },
  {
   "cell_type": "code",
   "execution_count": null,
   "metadata": {
    "collapsed": true
   },
   "outputs": [],
   "source": []
  },
  {
   "cell_type": "code",
   "execution_count": null,
   "metadata": {
    "collapsed": true
   },
   "outputs": [],
   "source": []
  }
 ],
 "metadata": {
  "anaconda-cloud": {},
  "kernelspec": {
   "display_name": "Python [conda root]",
   "language": "python",
   "name": "conda-root-py"
  },
  "language_info": {
   "codemirror_mode": {
    "name": "ipython",
    "version": 3
   },
   "file_extension": ".py",
   "mimetype": "text/x-python",
   "name": "python",
   "nbconvert_exporter": "python",
   "pygments_lexer": "ipython3",
   "version": "3.5.2"
  }
 },
 "nbformat": 4,
 "nbformat_minor": 1
}
